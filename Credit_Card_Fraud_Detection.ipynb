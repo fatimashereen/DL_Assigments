{
  "nbformat": 4,
  "nbformat_minor": 0,
  "metadata": {
    "colab": {
      "name": "Credit-Card-Fraud-Detection.ipynb",
      "provenance": [],
      "toc_visible": true
    },
    "kernelspec": {
      "display_name": "Python 3",
      "name": "python3"
    },
    "language_info": {
      "name": "python"
    }
  },
  "cells": [
    {
      "cell_type": "code",
      "metadata": {
        "id": "w0F__BTudnEc"
      },
      "source": [
        "cd  /content/drive/MyDrive/AI-assigment"
      ],
      "execution_count": null,
      "outputs": []
    },
    {
      "cell_type": "code",
      "metadata": {
        "colab": {
          "base_uri": "https://localhost:8080/"
        },
        "id": "P-mlBpqNf9g0",
        "outputId": "fd156e2a-0ba9-4c1c-e437-09ac36ad55d3"
      },
      "source": [
        "# import libraries\n",
        "import tensorflow as tf\n",
        "from tensorflow import keras\n",
        "from tensorflow.keras import Sequential\n",
        "from tensorflow.keras.layers import Flatten, Dense, Dropout, BatchNormalization\n",
        "from tensorflow.keras.layers import Conv1D, MaxPool1D\n",
        "from tensorflow.keras.optimizers import Adam\n",
        "\n",
        "print(tf.__version__)\n"
      ],
      "execution_count": 11,
      "outputs": [
        {
          "output_type": "stream",
          "text": [
            "2.4.1\n"
          ],
          "name": "stdout"
        }
      ]
    },
    {
      "cell_type": "code",
      "metadata": {
        "id": "tXBD6OOhkDx8"
      },
      "source": [
        "import pandas as pd\n",
        "import numpy as np\n",
        "import seaborn as sns \n",
        "import matplotlib.pyplot as plt\n",
        "from sklearn.model_selection import train_test_split\n",
        "from sklearn.preprocessing import StandardScaler"
      ],
      "execution_count": 12,
      "outputs": []
    },
    {
      "cell_type": "code",
      "metadata": {
        "id": "lKiMNPXykKHr"
      },
      "source": [
        "data = pd.read_csv('/content/drive/MyDrive/AI-assigment/creditcard.csv')"
      ],
      "execution_count": 13,
      "outputs": []
    },
    {
      "cell_type": "code",
      "metadata": {
        "colab": {
          "base_uri": "https://localhost:8080/",
          "height": 224
        },
        "id": "dco-1_bjkuJA",
        "outputId": "750379b4-3cfa-4e2f-ea95-1d9bab579b4b"
      },
      "source": [
        "data.head()"
      ],
      "execution_count": 14,
      "outputs": [
        {
          "output_type": "execute_result",
          "data": {
            "text/html": [
              "<div>\n",
              "<style scoped>\n",
              "    .dataframe tbody tr th:only-of-type {\n",
              "        vertical-align: middle;\n",
              "    }\n",
              "\n",
              "    .dataframe tbody tr th {\n",
              "        vertical-align: top;\n",
              "    }\n",
              "\n",
              "    .dataframe thead th {\n",
              "        text-align: right;\n",
              "    }\n",
              "</style>\n",
              "<table border=\"1\" class=\"dataframe\">\n",
              "  <thead>\n",
              "    <tr style=\"text-align: right;\">\n",
              "      <th></th>\n",
              "      <th>Time</th>\n",
              "      <th>V1</th>\n",
              "      <th>V2</th>\n",
              "      <th>V3</th>\n",
              "      <th>V4</th>\n",
              "      <th>V5</th>\n",
              "      <th>V6</th>\n",
              "      <th>V7</th>\n",
              "      <th>V8</th>\n",
              "      <th>V9</th>\n",
              "      <th>V10</th>\n",
              "      <th>V11</th>\n",
              "      <th>V12</th>\n",
              "      <th>V13</th>\n",
              "      <th>V14</th>\n",
              "      <th>V15</th>\n",
              "      <th>V16</th>\n",
              "      <th>V17</th>\n",
              "      <th>V18</th>\n",
              "      <th>V19</th>\n",
              "      <th>V20</th>\n",
              "      <th>V21</th>\n",
              "      <th>V22</th>\n",
              "      <th>V23</th>\n",
              "      <th>V24</th>\n",
              "      <th>V25</th>\n",
              "      <th>V26</th>\n",
              "      <th>V27</th>\n",
              "      <th>V28</th>\n",
              "      <th>Amount</th>\n",
              "      <th>Class</th>\n",
              "    </tr>\n",
              "  </thead>\n",
              "  <tbody>\n",
              "    <tr>\n",
              "      <th>0</th>\n",
              "      <td>0.0</td>\n",
              "      <td>-1.359807</td>\n",
              "      <td>-0.072781</td>\n",
              "      <td>2.536347</td>\n",
              "      <td>1.378155</td>\n",
              "      <td>-0.338321</td>\n",
              "      <td>0.462388</td>\n",
              "      <td>0.239599</td>\n",
              "      <td>0.098698</td>\n",
              "      <td>0.363787</td>\n",
              "      <td>0.090794</td>\n",
              "      <td>-0.551600</td>\n",
              "      <td>-0.617801</td>\n",
              "      <td>-0.991390</td>\n",
              "      <td>-0.311169</td>\n",
              "      <td>1.468177</td>\n",
              "      <td>-0.470401</td>\n",
              "      <td>0.207971</td>\n",
              "      <td>0.025791</td>\n",
              "      <td>0.403993</td>\n",
              "      <td>0.251412</td>\n",
              "      <td>-0.018307</td>\n",
              "      <td>0.277838</td>\n",
              "      <td>-0.110474</td>\n",
              "      <td>0.066928</td>\n",
              "      <td>0.128539</td>\n",
              "      <td>-0.189115</td>\n",
              "      <td>0.133558</td>\n",
              "      <td>-0.021053</td>\n",
              "      <td>149.62</td>\n",
              "      <td>0</td>\n",
              "    </tr>\n",
              "    <tr>\n",
              "      <th>1</th>\n",
              "      <td>0.0</td>\n",
              "      <td>1.191857</td>\n",
              "      <td>0.266151</td>\n",
              "      <td>0.166480</td>\n",
              "      <td>0.448154</td>\n",
              "      <td>0.060018</td>\n",
              "      <td>-0.082361</td>\n",
              "      <td>-0.078803</td>\n",
              "      <td>0.085102</td>\n",
              "      <td>-0.255425</td>\n",
              "      <td>-0.166974</td>\n",
              "      <td>1.612727</td>\n",
              "      <td>1.065235</td>\n",
              "      <td>0.489095</td>\n",
              "      <td>-0.143772</td>\n",
              "      <td>0.635558</td>\n",
              "      <td>0.463917</td>\n",
              "      <td>-0.114805</td>\n",
              "      <td>-0.183361</td>\n",
              "      <td>-0.145783</td>\n",
              "      <td>-0.069083</td>\n",
              "      <td>-0.225775</td>\n",
              "      <td>-0.638672</td>\n",
              "      <td>0.101288</td>\n",
              "      <td>-0.339846</td>\n",
              "      <td>0.167170</td>\n",
              "      <td>0.125895</td>\n",
              "      <td>-0.008983</td>\n",
              "      <td>0.014724</td>\n",
              "      <td>2.69</td>\n",
              "      <td>0</td>\n",
              "    </tr>\n",
              "    <tr>\n",
              "      <th>2</th>\n",
              "      <td>1.0</td>\n",
              "      <td>-1.358354</td>\n",
              "      <td>-1.340163</td>\n",
              "      <td>1.773209</td>\n",
              "      <td>0.379780</td>\n",
              "      <td>-0.503198</td>\n",
              "      <td>1.800499</td>\n",
              "      <td>0.791461</td>\n",
              "      <td>0.247676</td>\n",
              "      <td>-1.514654</td>\n",
              "      <td>0.207643</td>\n",
              "      <td>0.624501</td>\n",
              "      <td>0.066084</td>\n",
              "      <td>0.717293</td>\n",
              "      <td>-0.165946</td>\n",
              "      <td>2.345865</td>\n",
              "      <td>-2.890083</td>\n",
              "      <td>1.109969</td>\n",
              "      <td>-0.121359</td>\n",
              "      <td>-2.261857</td>\n",
              "      <td>0.524980</td>\n",
              "      <td>0.247998</td>\n",
              "      <td>0.771679</td>\n",
              "      <td>0.909412</td>\n",
              "      <td>-0.689281</td>\n",
              "      <td>-0.327642</td>\n",
              "      <td>-0.139097</td>\n",
              "      <td>-0.055353</td>\n",
              "      <td>-0.059752</td>\n",
              "      <td>378.66</td>\n",
              "      <td>0</td>\n",
              "    </tr>\n",
              "    <tr>\n",
              "      <th>3</th>\n",
              "      <td>1.0</td>\n",
              "      <td>-0.966272</td>\n",
              "      <td>-0.185226</td>\n",
              "      <td>1.792993</td>\n",
              "      <td>-0.863291</td>\n",
              "      <td>-0.010309</td>\n",
              "      <td>1.247203</td>\n",
              "      <td>0.237609</td>\n",
              "      <td>0.377436</td>\n",
              "      <td>-1.387024</td>\n",
              "      <td>-0.054952</td>\n",
              "      <td>-0.226487</td>\n",
              "      <td>0.178228</td>\n",
              "      <td>0.507757</td>\n",
              "      <td>-0.287924</td>\n",
              "      <td>-0.631418</td>\n",
              "      <td>-1.059647</td>\n",
              "      <td>-0.684093</td>\n",
              "      <td>1.965775</td>\n",
              "      <td>-1.232622</td>\n",
              "      <td>-0.208038</td>\n",
              "      <td>-0.108300</td>\n",
              "      <td>0.005274</td>\n",
              "      <td>-0.190321</td>\n",
              "      <td>-1.175575</td>\n",
              "      <td>0.647376</td>\n",
              "      <td>-0.221929</td>\n",
              "      <td>0.062723</td>\n",
              "      <td>0.061458</td>\n",
              "      <td>123.50</td>\n",
              "      <td>0</td>\n",
              "    </tr>\n",
              "    <tr>\n",
              "      <th>4</th>\n",
              "      <td>2.0</td>\n",
              "      <td>-1.158233</td>\n",
              "      <td>0.877737</td>\n",
              "      <td>1.548718</td>\n",
              "      <td>0.403034</td>\n",
              "      <td>-0.407193</td>\n",
              "      <td>0.095921</td>\n",
              "      <td>0.592941</td>\n",
              "      <td>-0.270533</td>\n",
              "      <td>0.817739</td>\n",
              "      <td>0.753074</td>\n",
              "      <td>-0.822843</td>\n",
              "      <td>0.538196</td>\n",
              "      <td>1.345852</td>\n",
              "      <td>-1.119670</td>\n",
              "      <td>0.175121</td>\n",
              "      <td>-0.451449</td>\n",
              "      <td>-0.237033</td>\n",
              "      <td>-0.038195</td>\n",
              "      <td>0.803487</td>\n",
              "      <td>0.408542</td>\n",
              "      <td>-0.009431</td>\n",
              "      <td>0.798278</td>\n",
              "      <td>-0.137458</td>\n",
              "      <td>0.141267</td>\n",
              "      <td>-0.206010</td>\n",
              "      <td>0.502292</td>\n",
              "      <td>0.219422</td>\n",
              "      <td>0.215153</td>\n",
              "      <td>69.99</td>\n",
              "      <td>0</td>\n",
              "    </tr>\n",
              "  </tbody>\n",
              "</table>\n",
              "</div>"
            ],
            "text/plain": [
              "   Time        V1        V2        V3  ...       V27       V28  Amount  Class\n",
              "0   0.0 -1.359807 -0.072781  2.536347  ...  0.133558 -0.021053  149.62      0\n",
              "1   0.0  1.191857  0.266151  0.166480  ... -0.008983  0.014724    2.69      0\n",
              "2   1.0 -1.358354 -1.340163  1.773209  ... -0.055353 -0.059752  378.66      0\n",
              "3   1.0 -0.966272 -0.185226  1.792993  ...  0.062723  0.061458  123.50      0\n",
              "4   2.0 -1.158233  0.877737  1.548718  ...  0.219422  0.215153   69.99      0\n",
              "\n",
              "[5 rows x 31 columns]"
            ]
          },
          "metadata": {
            "tags": []
          },
          "execution_count": 14
        }
      ]
    },
    {
      "cell_type": "code",
      "metadata": {
        "colab": {
          "base_uri": "https://localhost:8080/"
        },
        "id": "gRAk98-fkws2",
        "outputId": "818b7433-944e-4237-96ac-9590033f60cb"
      },
      "source": [
        "data.shape"
      ],
      "execution_count": 15,
      "outputs": [
        {
          "output_type": "execute_result",
          "data": {
            "text/plain": [
              "(284807, 31)"
            ]
          },
          "metadata": {
            "tags": []
          },
          "execution_count": 15
        }
      ]
    },
    {
      "cell_type": "code",
      "metadata": {
        "colab": {
          "base_uri": "https://localhost:8080/"
        },
        "id": "wvHqxKp1k3Gr",
        "outputId": "85905c02-c590-4b1e-9af5-d3e256dd3170"
      },
      "source": [
        "data.isnull().sum()"
      ],
      "execution_count": 16,
      "outputs": [
        {
          "output_type": "execute_result",
          "data": {
            "text/plain": [
              "Time      0\n",
              "V1        0\n",
              "V2        0\n",
              "V3        0\n",
              "V4        0\n",
              "V5        0\n",
              "V6        0\n",
              "V7        0\n",
              "V8        0\n",
              "V9        0\n",
              "V10       0\n",
              "V11       0\n",
              "V12       0\n",
              "V13       0\n",
              "V14       0\n",
              "V15       0\n",
              "V16       0\n",
              "V17       0\n",
              "V18       0\n",
              "V19       0\n",
              "V20       0\n",
              "V21       0\n",
              "V22       0\n",
              "V23       0\n",
              "V24       0\n",
              "V25       0\n",
              "V26       0\n",
              "V27       0\n",
              "V28       0\n",
              "Amount    0\n",
              "Class     0\n",
              "dtype: int64"
            ]
          },
          "metadata": {
            "tags": []
          },
          "execution_count": 16
        }
      ]
    },
    {
      "cell_type": "code",
      "metadata": {
        "colab": {
          "base_uri": "https://localhost:8080/"
        },
        "id": "3j0Kp-3ck8QU",
        "outputId": "99202856-597b-46d8-9abc-0fa6da1e7ce2"
      },
      "source": [
        "data.info()"
      ],
      "execution_count": 17,
      "outputs": [
        {
          "output_type": "stream",
          "text": [
            "<class 'pandas.core.frame.DataFrame'>\n",
            "RangeIndex: 284807 entries, 0 to 284806\n",
            "Data columns (total 31 columns):\n",
            " #   Column  Non-Null Count   Dtype  \n",
            "---  ------  --------------   -----  \n",
            " 0   Time    284807 non-null  float64\n",
            " 1   V1      284807 non-null  float64\n",
            " 2   V2      284807 non-null  float64\n",
            " 3   V3      284807 non-null  float64\n",
            " 4   V4      284807 non-null  float64\n",
            " 5   V5      284807 non-null  float64\n",
            " 6   V6      284807 non-null  float64\n",
            " 7   V7      284807 non-null  float64\n",
            " 8   V8      284807 non-null  float64\n",
            " 9   V9      284807 non-null  float64\n",
            " 10  V10     284807 non-null  float64\n",
            " 11  V11     284807 non-null  float64\n",
            " 12  V12     284807 non-null  float64\n",
            " 13  V13     284807 non-null  float64\n",
            " 14  V14     284807 non-null  float64\n",
            " 15  V15     284807 non-null  float64\n",
            " 16  V16     284807 non-null  float64\n",
            " 17  V17     284807 non-null  float64\n",
            " 18  V18     284807 non-null  float64\n",
            " 19  V19     284807 non-null  float64\n",
            " 20  V20     284807 non-null  float64\n",
            " 21  V21     284807 non-null  float64\n",
            " 22  V22     284807 non-null  float64\n",
            " 23  V23     284807 non-null  float64\n",
            " 24  V24     284807 non-null  float64\n",
            " 25  V25     284807 non-null  float64\n",
            " 26  V26     284807 non-null  float64\n",
            " 27  V27     284807 non-null  float64\n",
            " 28  V28     284807 non-null  float64\n",
            " 29  Amount  284807 non-null  float64\n",
            " 30  Class   284807 non-null  int64  \n",
            "dtypes: float64(30), int64(1)\n",
            "memory usage: 67.4 MB\n"
          ],
          "name": "stdout"
        }
      ]
    },
    {
      "cell_type": "code",
      "metadata": {
        "colab": {
          "base_uri": "https://localhost:8080/"
        },
        "id": "jSBUArmHlDT5",
        "outputId": "e9ed0cec-2a81-4e77-80f4-cbd62920fe05"
      },
      "source": [
        "data['Class'].value_counts()"
      ],
      "execution_count": 18,
      "outputs": [
        {
          "output_type": "execute_result",
          "data": {
            "text/plain": [
              "0    284315\n",
              "1       492\n",
              "Name: Class, dtype: int64"
            ]
          },
          "metadata": {
            "tags": []
          },
          "execution_count": 18
        }
      ]
    },
    {
      "cell_type": "code",
      "metadata": {
        "id": "7CSNBfiIlIik"
      },
      "source": [
        "non_fraud = data[data['Class'] == 0]\n",
        "fraud = data[data['Class'] == 1]"
      ],
      "execution_count": 19,
      "outputs": []
    },
    {
      "cell_type": "code",
      "metadata": {
        "colab": {
          "base_uri": "https://localhost:8080/"
        },
        "id": "NW51Qwa_lN-h",
        "outputId": "36fca7d3-e6bb-4500-bf71-c9951ee156c8"
      },
      "source": [
        "non_fraud.shape, fraud.shape"
      ],
      "execution_count": 20,
      "outputs": [
        {
          "output_type": "execute_result",
          "data": {
            "text/plain": [
              "((284315, 31), (492, 31))"
            ]
          },
          "metadata": {
            "tags": []
          },
          "execution_count": 20
        }
      ]
    },
    {
      "cell_type": "code",
      "metadata": {
        "colab": {
          "base_uri": "https://localhost:8080/"
        },
        "id": "F3rvW-7JlS40",
        "outputId": "440040e4-64a5-414b-b769-13b4ba5fee99"
      },
      "source": [
        "non_fraud = non_fraud.sample(fraud.shape[0])\n",
        "non_fraud.shape"
      ],
      "execution_count": 21,
      "outputs": [
        {
          "output_type": "execute_result",
          "data": {
            "text/plain": [
              "(492, 31)"
            ]
          },
          "metadata": {
            "tags": []
          },
          "execution_count": 21
        }
      ]
    },
    {
      "cell_type": "code",
      "metadata": {
        "colab": {
          "base_uri": "https://localhost:8080/",
          "height": 224
        },
        "id": "mii0sZYHlaIS",
        "outputId": "972df205-2da8-4b14-8cbe-3c3851f23ca4"
      },
      "source": [
        "final_data = fraud.append(non_fraud, ignore_index=True)\n",
        "final_data.head()"
      ],
      "execution_count": 22,
      "outputs": [
        {
          "output_type": "execute_result",
          "data": {
            "text/html": [
              "<div>\n",
              "<style scoped>\n",
              "    .dataframe tbody tr th:only-of-type {\n",
              "        vertical-align: middle;\n",
              "    }\n",
              "\n",
              "    .dataframe tbody tr th {\n",
              "        vertical-align: top;\n",
              "    }\n",
              "\n",
              "    .dataframe thead th {\n",
              "        text-align: right;\n",
              "    }\n",
              "</style>\n",
              "<table border=\"1\" class=\"dataframe\">\n",
              "  <thead>\n",
              "    <tr style=\"text-align: right;\">\n",
              "      <th></th>\n",
              "      <th>Time</th>\n",
              "      <th>V1</th>\n",
              "      <th>V2</th>\n",
              "      <th>V3</th>\n",
              "      <th>V4</th>\n",
              "      <th>V5</th>\n",
              "      <th>V6</th>\n",
              "      <th>V7</th>\n",
              "      <th>V8</th>\n",
              "      <th>V9</th>\n",
              "      <th>V10</th>\n",
              "      <th>V11</th>\n",
              "      <th>V12</th>\n",
              "      <th>V13</th>\n",
              "      <th>V14</th>\n",
              "      <th>V15</th>\n",
              "      <th>V16</th>\n",
              "      <th>V17</th>\n",
              "      <th>V18</th>\n",
              "      <th>V19</th>\n",
              "      <th>V20</th>\n",
              "      <th>V21</th>\n",
              "      <th>V22</th>\n",
              "      <th>V23</th>\n",
              "      <th>V24</th>\n",
              "      <th>V25</th>\n",
              "      <th>V26</th>\n",
              "      <th>V27</th>\n",
              "      <th>V28</th>\n",
              "      <th>Amount</th>\n",
              "      <th>Class</th>\n",
              "    </tr>\n",
              "  </thead>\n",
              "  <tbody>\n",
              "    <tr>\n",
              "      <th>0</th>\n",
              "      <td>406.0</td>\n",
              "      <td>-2.312227</td>\n",
              "      <td>1.951992</td>\n",
              "      <td>-1.609851</td>\n",
              "      <td>3.997906</td>\n",
              "      <td>-0.522188</td>\n",
              "      <td>-1.426545</td>\n",
              "      <td>-2.537387</td>\n",
              "      <td>1.391657</td>\n",
              "      <td>-2.770089</td>\n",
              "      <td>-2.772272</td>\n",
              "      <td>3.202033</td>\n",
              "      <td>-2.899907</td>\n",
              "      <td>-0.595222</td>\n",
              "      <td>-4.289254</td>\n",
              "      <td>0.389724</td>\n",
              "      <td>-1.140747</td>\n",
              "      <td>-2.830056</td>\n",
              "      <td>-0.016822</td>\n",
              "      <td>0.416956</td>\n",
              "      <td>0.126911</td>\n",
              "      <td>0.517232</td>\n",
              "      <td>-0.035049</td>\n",
              "      <td>-0.465211</td>\n",
              "      <td>0.320198</td>\n",
              "      <td>0.044519</td>\n",
              "      <td>0.177840</td>\n",
              "      <td>0.261145</td>\n",
              "      <td>-0.143276</td>\n",
              "      <td>0.00</td>\n",
              "      <td>1</td>\n",
              "    </tr>\n",
              "    <tr>\n",
              "      <th>1</th>\n",
              "      <td>472.0</td>\n",
              "      <td>-3.043541</td>\n",
              "      <td>-3.157307</td>\n",
              "      <td>1.088463</td>\n",
              "      <td>2.288644</td>\n",
              "      <td>1.359805</td>\n",
              "      <td>-1.064823</td>\n",
              "      <td>0.325574</td>\n",
              "      <td>-0.067794</td>\n",
              "      <td>-0.270953</td>\n",
              "      <td>-0.838587</td>\n",
              "      <td>-0.414575</td>\n",
              "      <td>-0.503141</td>\n",
              "      <td>0.676502</td>\n",
              "      <td>-1.692029</td>\n",
              "      <td>2.000635</td>\n",
              "      <td>0.666780</td>\n",
              "      <td>0.599717</td>\n",
              "      <td>1.725321</td>\n",
              "      <td>0.283345</td>\n",
              "      <td>2.102339</td>\n",
              "      <td>0.661696</td>\n",
              "      <td>0.435477</td>\n",
              "      <td>1.375966</td>\n",
              "      <td>-0.293803</td>\n",
              "      <td>0.279798</td>\n",
              "      <td>-0.145362</td>\n",
              "      <td>-0.252773</td>\n",
              "      <td>0.035764</td>\n",
              "      <td>529.00</td>\n",
              "      <td>1</td>\n",
              "    </tr>\n",
              "    <tr>\n",
              "      <th>2</th>\n",
              "      <td>4462.0</td>\n",
              "      <td>-2.303350</td>\n",
              "      <td>1.759247</td>\n",
              "      <td>-0.359745</td>\n",
              "      <td>2.330243</td>\n",
              "      <td>-0.821628</td>\n",
              "      <td>-0.075788</td>\n",
              "      <td>0.562320</td>\n",
              "      <td>-0.399147</td>\n",
              "      <td>-0.238253</td>\n",
              "      <td>-1.525412</td>\n",
              "      <td>2.032912</td>\n",
              "      <td>-6.560124</td>\n",
              "      <td>0.022937</td>\n",
              "      <td>-1.470102</td>\n",
              "      <td>-0.698826</td>\n",
              "      <td>-2.282194</td>\n",
              "      <td>-4.781831</td>\n",
              "      <td>-2.615665</td>\n",
              "      <td>-1.334441</td>\n",
              "      <td>-0.430022</td>\n",
              "      <td>-0.294166</td>\n",
              "      <td>-0.932391</td>\n",
              "      <td>0.172726</td>\n",
              "      <td>-0.087330</td>\n",
              "      <td>-0.156114</td>\n",
              "      <td>-0.542628</td>\n",
              "      <td>0.039566</td>\n",
              "      <td>-0.153029</td>\n",
              "      <td>239.93</td>\n",
              "      <td>1</td>\n",
              "    </tr>\n",
              "    <tr>\n",
              "      <th>3</th>\n",
              "      <td>6986.0</td>\n",
              "      <td>-4.397974</td>\n",
              "      <td>1.358367</td>\n",
              "      <td>-2.592844</td>\n",
              "      <td>2.679787</td>\n",
              "      <td>-1.128131</td>\n",
              "      <td>-1.706536</td>\n",
              "      <td>-3.496197</td>\n",
              "      <td>-0.248778</td>\n",
              "      <td>-0.247768</td>\n",
              "      <td>-4.801637</td>\n",
              "      <td>4.895844</td>\n",
              "      <td>-10.912819</td>\n",
              "      <td>0.184372</td>\n",
              "      <td>-6.771097</td>\n",
              "      <td>-0.007326</td>\n",
              "      <td>-7.358083</td>\n",
              "      <td>-12.598419</td>\n",
              "      <td>-5.131549</td>\n",
              "      <td>0.308334</td>\n",
              "      <td>-0.171608</td>\n",
              "      <td>0.573574</td>\n",
              "      <td>0.176968</td>\n",
              "      <td>-0.436207</td>\n",
              "      <td>-0.053502</td>\n",
              "      <td>0.252405</td>\n",
              "      <td>-0.657488</td>\n",
              "      <td>-0.827136</td>\n",
              "      <td>0.849573</td>\n",
              "      <td>59.00</td>\n",
              "      <td>1</td>\n",
              "    </tr>\n",
              "    <tr>\n",
              "      <th>4</th>\n",
              "      <td>7519.0</td>\n",
              "      <td>1.234235</td>\n",
              "      <td>3.019740</td>\n",
              "      <td>-4.304597</td>\n",
              "      <td>4.732795</td>\n",
              "      <td>3.624201</td>\n",
              "      <td>-1.357746</td>\n",
              "      <td>1.713445</td>\n",
              "      <td>-0.496358</td>\n",
              "      <td>-1.282858</td>\n",
              "      <td>-2.447469</td>\n",
              "      <td>2.101344</td>\n",
              "      <td>-4.609628</td>\n",
              "      <td>1.464378</td>\n",
              "      <td>-6.079337</td>\n",
              "      <td>-0.339237</td>\n",
              "      <td>2.581851</td>\n",
              "      <td>6.739384</td>\n",
              "      <td>3.042493</td>\n",
              "      <td>-2.721853</td>\n",
              "      <td>0.009061</td>\n",
              "      <td>-0.379068</td>\n",
              "      <td>-0.704181</td>\n",
              "      <td>-0.656805</td>\n",
              "      <td>-1.632653</td>\n",
              "      <td>1.488901</td>\n",
              "      <td>0.566797</td>\n",
              "      <td>-0.010016</td>\n",
              "      <td>0.146793</td>\n",
              "      <td>1.00</td>\n",
              "      <td>1</td>\n",
              "    </tr>\n",
              "  </tbody>\n",
              "</table>\n",
              "</div>"
            ],
            "text/plain": [
              "     Time        V1        V2        V3  ...       V27       V28  Amount  Class\n",
              "0   406.0 -2.312227  1.951992 -1.609851  ...  0.261145 -0.143276    0.00      1\n",
              "1   472.0 -3.043541 -3.157307  1.088463  ... -0.252773  0.035764  529.00      1\n",
              "2  4462.0 -2.303350  1.759247 -0.359745  ...  0.039566 -0.153029  239.93      1\n",
              "3  6986.0 -4.397974  1.358367 -2.592844  ... -0.827136  0.849573   59.00      1\n",
              "4  7519.0  1.234235  3.019740 -4.304597  ... -0.010016  0.146793    1.00      1\n",
              "\n",
              "[5 rows x 31 columns]"
            ]
          },
          "metadata": {
            "tags": []
          },
          "execution_count": 22
        }
      ]
    },
    {
      "cell_type": "code",
      "metadata": {
        "colab": {
          "base_uri": "https://localhost:8080/"
        },
        "id": "9Ydn1bC4lfNy",
        "outputId": "c7d6cf97-e176-4e06-b35f-af62a758f688"
      },
      "source": [
        "final_data['Class'].value_counts()"
      ],
      "execution_count": 23,
      "outputs": [
        {
          "output_type": "execute_result",
          "data": {
            "text/plain": [
              "1    492\n",
              "0    492\n",
              "Name: Class, dtype: int64"
            ]
          },
          "metadata": {
            "tags": []
          },
          "execution_count": 23
        }
      ]
    },
    {
      "cell_type": "code",
      "metadata": {
        "id": "jZ5UTaWGlura"
      },
      "source": [
        "X = final_data.drop('Class', axis=1)\n",
        "y = final_data['Class']"
      ],
      "execution_count": 24,
      "outputs": []
    },
    {
      "cell_type": "code",
      "metadata": {
        "id": "WCz_sD1vl9YA"
      },
      "source": [
        "X_train, X_test, y_train, y_test = train_test_split(X, y, test_size=0.3, random_state=0, stratify=y)"
      ],
      "execution_count": 25,
      "outputs": []
    },
    {
      "cell_type": "code",
      "metadata": {
        "colab": {
          "base_uri": "https://localhost:8080/"
        },
        "id": "L7DmBktDmESP",
        "outputId": "fde02f04-5d28-471e-ce6f-66fc48c6b5ce"
      },
      "source": [
        "X_train.shape, X_test.shape"
      ],
      "execution_count": 26,
      "outputs": [
        {
          "output_type": "execute_result",
          "data": {
            "text/plain": [
              "((688, 30), (296, 30))"
            ]
          },
          "metadata": {
            "tags": []
          },
          "execution_count": 26
        }
      ]
    },
    {
      "cell_type": "code",
      "metadata": {
        "colab": {
          "base_uri": "https://localhost:8080/",
          "height": 224
        },
        "id": "nzFLG_WkmIkP",
        "outputId": "75f79e04-509d-43e3-bb3a-1545cef80b33"
      },
      "source": [
        "X_train.head()"
      ],
      "execution_count": 27,
      "outputs": [
        {
          "output_type": "execute_result",
          "data": {
            "text/html": [
              "<div>\n",
              "<style scoped>\n",
              "    .dataframe tbody tr th:only-of-type {\n",
              "        vertical-align: middle;\n",
              "    }\n",
              "\n",
              "    .dataframe tbody tr th {\n",
              "        vertical-align: top;\n",
              "    }\n",
              "\n",
              "    .dataframe thead th {\n",
              "        text-align: right;\n",
              "    }\n",
              "</style>\n",
              "<table border=\"1\" class=\"dataframe\">\n",
              "  <thead>\n",
              "    <tr style=\"text-align: right;\">\n",
              "      <th></th>\n",
              "      <th>Time</th>\n",
              "      <th>V1</th>\n",
              "      <th>V2</th>\n",
              "      <th>V3</th>\n",
              "      <th>V4</th>\n",
              "      <th>V5</th>\n",
              "      <th>V6</th>\n",
              "      <th>V7</th>\n",
              "      <th>V8</th>\n",
              "      <th>V9</th>\n",
              "      <th>V10</th>\n",
              "      <th>V11</th>\n",
              "      <th>V12</th>\n",
              "      <th>V13</th>\n",
              "      <th>V14</th>\n",
              "      <th>V15</th>\n",
              "      <th>V16</th>\n",
              "      <th>V17</th>\n",
              "      <th>V18</th>\n",
              "      <th>V19</th>\n",
              "      <th>V20</th>\n",
              "      <th>V21</th>\n",
              "      <th>V22</th>\n",
              "      <th>V23</th>\n",
              "      <th>V24</th>\n",
              "      <th>V25</th>\n",
              "      <th>V26</th>\n",
              "      <th>V27</th>\n",
              "      <th>V28</th>\n",
              "      <th>Amount</th>\n",
              "    </tr>\n",
              "  </thead>\n",
              "  <tbody>\n",
              "    <tr>\n",
              "      <th>633</th>\n",
              "      <td>130281.0</td>\n",
              "      <td>-0.592396</td>\n",
              "      <td>0.662578</td>\n",
              "      <td>1.484573</td>\n",
              "      <td>-0.597332</td>\n",
              "      <td>-0.189628</td>\n",
              "      <td>-0.409632</td>\n",
              "      <td>0.426505</td>\n",
              "      <td>-0.092017</td>\n",
              "      <td>0.660388</td>\n",
              "      <td>-0.782393</td>\n",
              "      <td>-1.148615</td>\n",
              "      <td>0.258948</td>\n",
              "      <td>0.364688</td>\n",
              "      <td>-0.437934</td>\n",
              "      <td>-0.001661</td>\n",
              "      <td>0.003058</td>\n",
              "      <td>-0.629215</td>\n",
              "      <td>0.348794</td>\n",
              "      <td>-0.392644</td>\n",
              "      <td>-0.190902</td>\n",
              "      <td>0.364297</td>\n",
              "      <td>1.192305</td>\n",
              "      <td>-0.311467</td>\n",
              "      <td>0.095437</td>\n",
              "      <td>-0.228414</td>\n",
              "      <td>-0.236557</td>\n",
              "      <td>-0.052411</td>\n",
              "      <td>0.165596</td>\n",
              "      <td>24.95</td>\n",
              "    </tr>\n",
              "    <tr>\n",
              "      <th>662</th>\n",
              "      <td>73181.0</td>\n",
              "      <td>1.256299</td>\n",
              "      <td>0.318222</td>\n",
              "      <td>0.293469</td>\n",
              "      <td>0.697070</td>\n",
              "      <td>-0.413623</td>\n",
              "      <td>-1.082054</td>\n",
              "      <td>0.052867</td>\n",
              "      <td>-0.175203</td>\n",
              "      <td>0.108284</td>\n",
              "      <td>-0.268033</td>\n",
              "      <td>-0.155851</td>\n",
              "      <td>-0.031710</td>\n",
              "      <td>-0.271264</td>\n",
              "      <td>-0.188694</td>\n",
              "      <td>1.148992</td>\n",
              "      <td>0.503458</td>\n",
              "      <td>0.021245</td>\n",
              "      <td>-0.236328</td>\n",
              "      <td>-0.193025</td>\n",
              "      <td>-0.112489</td>\n",
              "      <td>-0.293683</td>\n",
              "      <td>-0.871704</td>\n",
              "      <td>0.134665</td>\n",
              "      <td>0.326176</td>\n",
              "      <td>0.199956</td>\n",
              "      <td>0.096416</td>\n",
              "      <td>-0.026337</td>\n",
              "      <td>0.029699</td>\n",
              "      <td>1.79</td>\n",
              "    </tr>\n",
              "    <tr>\n",
              "      <th>510</th>\n",
              "      <td>83324.0</td>\n",
              "      <td>-2.676982</td>\n",
              "      <td>1.135599</td>\n",
              "      <td>-0.872782</td>\n",
              "      <td>-1.146228</td>\n",
              "      <td>-1.739622</td>\n",
              "      <td>0.468753</td>\n",
              "      <td>-2.973810</td>\n",
              "      <td>-7.618580</td>\n",
              "      <td>-1.776426</td>\n",
              "      <td>-1.429459</td>\n",
              "      <td>-1.629911</td>\n",
              "      <td>-0.082445</td>\n",
              "      <td>-1.838704</td>\n",
              "      <td>1.657475</td>\n",
              "      <td>-0.817252</td>\n",
              "      <td>-0.860465</td>\n",
              "      <td>0.656354</td>\n",
              "      <td>0.994491</td>\n",
              "      <td>-1.526751</td>\n",
              "      <td>0.952816</td>\n",
              "      <td>-4.212562</td>\n",
              "      <td>0.712399</td>\n",
              "      <td>0.323699</td>\n",
              "      <td>0.382461</td>\n",
              "      <td>-0.902360</td>\n",
              "      <td>0.800524</td>\n",
              "      <td>0.420778</td>\n",
              "      <td>-0.024214</td>\n",
              "      <td>163.31</td>\n",
              "    </tr>\n",
              "    <tr>\n",
              "      <th>68</th>\n",
              "      <td>26961.0</td>\n",
              "      <td>-23.237920</td>\n",
              "      <td>13.487386</td>\n",
              "      <td>-25.188773</td>\n",
              "      <td>6.261733</td>\n",
              "      <td>-17.345188</td>\n",
              "      <td>-4.534989</td>\n",
              "      <td>-17.100492</td>\n",
              "      <td>15.374630</td>\n",
              "      <td>-3.845567</td>\n",
              "      <td>-8.511767</td>\n",
              "      <td>5.138547</td>\n",
              "      <td>-7.220020</td>\n",
              "      <td>0.615793</td>\n",
              "      <td>-7.327222</td>\n",
              "      <td>-0.038632</td>\n",
              "      <td>-6.331515</td>\n",
              "      <td>-12.688858</td>\n",
              "      <td>-4.847382</td>\n",
              "      <td>1.020536</td>\n",
              "      <td>1.630787</td>\n",
              "      <td>1.769708</td>\n",
              "      <td>-1.691973</td>\n",
              "      <td>-1.045673</td>\n",
              "      <td>0.143386</td>\n",
              "      <td>1.611577</td>\n",
              "      <td>-0.221576</td>\n",
              "      <td>1.481233</td>\n",
              "      <td>0.438125</td>\n",
              "      <td>99.99</td>\n",
              "    </tr>\n",
              "    <tr>\n",
              "      <th>294</th>\n",
              "      <td>93823.0</td>\n",
              "      <td>-3.821939</td>\n",
              "      <td>5.667247</td>\n",
              "      <td>-9.244963</td>\n",
              "      <td>8.246147</td>\n",
              "      <td>-4.368286</td>\n",
              "      <td>-3.450735</td>\n",
              "      <td>-8.427378</td>\n",
              "      <td>2.305609</td>\n",
              "      <td>-5.338079</td>\n",
              "      <td>-12.011161</td>\n",
              "      <td>8.621255</td>\n",
              "      <td>-18.683715</td>\n",
              "      <td>-0.962073</td>\n",
              "      <td>-15.297656</td>\n",
              "      <td>-2.414132</td>\n",
              "      <td>-12.105602</td>\n",
              "      <td>-21.338195</td>\n",
              "      <td>-8.045436</td>\n",
              "      <td>0.156015</td>\n",
              "      <td>1.115247</td>\n",
              "      <td>1.990520</td>\n",
              "      <td>0.083353</td>\n",
              "      <td>-0.062264</td>\n",
              "      <td>0.390188</td>\n",
              "      <td>0.329884</td>\n",
              "      <td>0.098017</td>\n",
              "      <td>1.869570</td>\n",
              "      <td>1.000850</td>\n",
              "      <td>75.86</td>\n",
              "    </tr>\n",
              "  </tbody>\n",
              "</table>\n",
              "</div>"
            ],
            "text/plain": [
              "         Time         V1         V2  ...       V27       V28  Amount\n",
              "633  130281.0  -0.592396   0.662578  ... -0.052411  0.165596   24.95\n",
              "662   73181.0   1.256299   0.318222  ... -0.026337  0.029699    1.79\n",
              "510   83324.0  -2.676982   1.135599  ...  0.420778 -0.024214  163.31\n",
              "68    26961.0 -23.237920  13.487386  ...  1.481233  0.438125   99.99\n",
              "294   93823.0  -3.821939   5.667247  ...  1.869570  1.000850   75.86\n",
              "\n",
              "[5 rows x 30 columns]"
            ]
          },
          "metadata": {
            "tags": []
          },
          "execution_count": 27
        }
      ]
    },
    {
      "cell_type": "code",
      "metadata": {
        "id": "JWel2wf1mNeG"
      },
      "source": [
        "scaler = StandardScaler()\n",
        "X_train = scaler.fit_transform(X_train)\n",
        "# We will not only transform the X_test because it avoids overfitting \n",
        "# This means we are transforming X_test based on the findings of X_train\n",
        "X_test = scaler.transform(X_test)"
      ],
      "execution_count": 28,
      "outputs": []
    },
    {
      "cell_type": "code",
      "metadata": {
        "id": "0s9zwi5_motW"
      },
      "source": [
        "y_train = y_train.to_numpy()"
      ],
      "execution_count": 29,
      "outputs": []
    },
    {
      "cell_type": "code",
      "metadata": {
        "id": "lbDRHPDvnRbR"
      },
      "source": [
        "y_test = y_test.to_numpy()"
      ],
      "execution_count": 30,
      "outputs": []
    },
    {
      "cell_type": "code",
      "metadata": {
        "colab": {
          "base_uri": "https://localhost:8080/"
        },
        "id": "4dIoR7t7nVkZ",
        "outputId": "b534ce86-1cc6-4186-b17a-abae9bf51533"
      },
      "source": [
        "X_train.shape"
      ],
      "execution_count": 31,
      "outputs": [
        {
          "output_type": "execute_result",
          "data": {
            "text/plain": [
              "(688, 30)"
            ]
          },
          "metadata": {
            "tags": []
          },
          "execution_count": 31
        }
      ]
    },
    {
      "cell_type": "code",
      "metadata": {
        "id": "MzZpMPDynbmf"
      },
      "source": [
        "X_train = X_train.reshape(X_train.shape[0], X_train.shape[1], 1)\n",
        "X_test = X_test.reshape(X_test.shape[0], X_test.shape[1], 1)"
      ],
      "execution_count": 32,
      "outputs": []
    },
    {
      "cell_type": "code",
      "metadata": {
        "colab": {
          "background_save": true
        },
        "id": "5lx3v5FZmys3"
      },
      "source": [
        "X_train.shape, X_test.shape"
      ],
      "execution_count": null,
      "outputs": []
    },
    {
      "cell_type": "code",
      "metadata": {
        "id": "e4tJJ8K2nDuQ"
      },
      "source": [
        "epochs = 20\n",
        "model = Sequential()\n",
        "model.add(Conv1D(32, 2, activation='relu', input_shape=X_train[0].shape))\n",
        "model.add(BatchNormalization())\n",
        "model.add(Dropout(0.2)) # dropout 20% of neurons\n",
        "\n",
        "model.add(Conv1D(64, 2, activation='relu'))\n",
        "model.add(BatchNormalization())\n",
        "model.add(Dropout(0.5))\n",
        "\n",
        "model.add(Flatten()) # Flatten our 3D data into a vector\n",
        "model.add(Dense(64, activation='relu'))\n",
        "model.add(Dropout(0.5))\n",
        "\n",
        "model.add(Dense(1, activation='sigmoid'))"
      ],
      "execution_count": 33,
      "outputs": []
    },
    {
      "cell_type": "code",
      "metadata": {
        "colab": {
          "base_uri": "https://localhost:8080/"
        },
        "id": "3EqNhwfpHcIK",
        "outputId": "6f803046-a3e1-46d7-ee63-90881e93bc9c"
      },
      "source": [
        "model.summary()"
      ],
      "execution_count": 34,
      "outputs": [
        {
          "output_type": "stream",
          "text": [
            "Model: \"sequential\"\n",
            "_________________________________________________________________\n",
            "Layer (type)                 Output Shape              Param #   \n",
            "=================================================================\n",
            "conv1d (Conv1D)              (None, 29, 32)            96        \n",
            "_________________________________________________________________\n",
            "batch_normalization (BatchNo (None, 29, 32)            128       \n",
            "_________________________________________________________________\n",
            "dropout (Dropout)            (None, 29, 32)            0         \n",
            "_________________________________________________________________\n",
            "conv1d_1 (Conv1D)            (None, 28, 64)            4160      \n",
            "_________________________________________________________________\n",
            "batch_normalization_1 (Batch (None, 28, 64)            256       \n",
            "_________________________________________________________________\n",
            "dropout_1 (Dropout)          (None, 28, 64)            0         \n",
            "_________________________________________________________________\n",
            "flatten (Flatten)            (None, 1792)              0         \n",
            "_________________________________________________________________\n",
            "dense (Dense)                (None, 64)                114752    \n",
            "_________________________________________________________________\n",
            "dropout_2 (Dropout)          (None, 64)                0         \n",
            "_________________________________________________________________\n",
            "dense_1 (Dense)              (None, 1)                 65        \n",
            "=================================================================\n",
            "Total params: 119,457\n",
            "Trainable params: 119,265\n",
            "Non-trainable params: 192\n",
            "_________________________________________________________________\n"
          ],
          "name": "stdout"
        }
      ]
    },
    {
      "cell_type": "code",
      "metadata": {
        "id": "8Zjj-fFJIIfL"
      },
      "source": [
        "model.compile(optimizer=Adam(lr=0.0001), loss = 'binary_crossentropy', metrics=['accuracy'])"
      ],
      "execution_count": 35,
      "outputs": []
    },
    {
      "cell_type": "code",
      "metadata": {
        "colab": {
          "base_uri": "https://localhost:8080/"
        },
        "id": "crDGw9jEIXtu",
        "outputId": "9342d75a-20ec-4d6e-e179-ad91ece6a169"
      },
      "source": [
        "history = model.fit(X_train, y_train, epochs=epochs, validation_data=(X_test, y_test), verbose=1)"
      ],
      "execution_count": 36,
      "outputs": [
        {
          "output_type": "stream",
          "text": [
            "Epoch 1/20\n",
            "22/22 [==============================] - 2s 31ms/step - loss: 0.8800 - accuracy: 0.5855 - val_loss: 0.6160 - val_accuracy: 0.8142\n",
            "Epoch 2/20\n",
            "22/22 [==============================] - 0s 10ms/step - loss: 0.4907 - accuracy: 0.7948 - val_loss: 0.5701 - val_accuracy: 0.8074\n",
            "Epoch 3/20\n",
            "22/22 [==============================] - 0s 10ms/step - loss: 0.4380 - accuracy: 0.8345 - val_loss: 0.5418 - val_accuracy: 0.8547\n",
            "Epoch 4/20\n",
            "22/22 [==============================] - 0s 10ms/step - loss: 0.3599 - accuracy: 0.8643 - val_loss: 0.5128 - val_accuracy: 0.8750\n",
            "Epoch 5/20\n",
            "22/22 [==============================] - 0s 10ms/step - loss: 0.2942 - accuracy: 0.8862 - val_loss: 0.4869 - val_accuracy: 0.8953\n",
            "Epoch 6/20\n",
            "22/22 [==============================] - 0s 10ms/step - loss: 0.2745 - accuracy: 0.8881 - val_loss: 0.4598 - val_accuracy: 0.8986\n",
            "Epoch 7/20\n",
            "22/22 [==============================] - 0s 11ms/step - loss: 0.2815 - accuracy: 0.8855 - val_loss: 0.4311 - val_accuracy: 0.9054\n",
            "Epoch 8/20\n",
            "22/22 [==============================] - 0s 10ms/step - loss: 0.2427 - accuracy: 0.9131 - val_loss: 0.4057 - val_accuracy: 0.9020\n",
            "Epoch 9/20\n",
            "22/22 [==============================] - 0s 10ms/step - loss: 0.2112 - accuracy: 0.9226 - val_loss: 0.3866 - val_accuracy: 0.9155\n",
            "Epoch 10/20\n",
            "22/22 [==============================] - 0s 11ms/step - loss: 0.2969 - accuracy: 0.8975 - val_loss: 0.3584 - val_accuracy: 0.9088\n",
            "Epoch 11/20\n",
            "22/22 [==============================] - 0s 11ms/step - loss: 0.2710 - accuracy: 0.9156 - val_loss: 0.3273 - val_accuracy: 0.9054\n",
            "Epoch 12/20\n",
            "22/22 [==============================] - 0s 10ms/step - loss: 0.3048 - accuracy: 0.8943 - val_loss: 0.3047 - val_accuracy: 0.9054\n",
            "Epoch 13/20\n",
            "22/22 [==============================] - 0s 11ms/step - loss: 0.2164 - accuracy: 0.9308 - val_loss: 0.2810 - val_accuracy: 0.9088\n",
            "Epoch 14/20\n",
            "22/22 [==============================] - 0s 10ms/step - loss: 0.2357 - accuracy: 0.9254 - val_loss: 0.2658 - val_accuracy: 0.9054\n",
            "Epoch 15/20\n",
            "22/22 [==============================] - 0s 10ms/step - loss: 0.2027 - accuracy: 0.9246 - val_loss: 0.2528 - val_accuracy: 0.9054\n",
            "Epoch 16/20\n",
            "22/22 [==============================] - 0s 10ms/step - loss: 0.2169 - accuracy: 0.9200 - val_loss: 0.2398 - val_accuracy: 0.9054\n",
            "Epoch 17/20\n",
            "22/22 [==============================] - 0s 11ms/step - loss: 0.2061 - accuracy: 0.9207 - val_loss: 0.2266 - val_accuracy: 0.9088\n",
            "Epoch 18/20\n",
            "22/22 [==============================] - 0s 10ms/step - loss: 0.1938 - accuracy: 0.9191 - val_loss: 0.2190 - val_accuracy: 0.9054\n",
            "Epoch 19/20\n",
            "22/22 [==============================] - 0s 10ms/step - loss: 0.2006 - accuracy: 0.9412 - val_loss: 0.2141 - val_accuracy: 0.9054\n",
            "Epoch 20/20\n",
            "22/22 [==============================] - 0s 11ms/step - loss: 0.2213 - accuracy: 0.9128 - val_loss: 0.2093 - val_accuracy: 0.9088\n"
          ],
          "name": "stdout"
        }
      ]
    },
    {
      "cell_type": "code",
      "metadata": {
        "id": "UNXAS_86Icai"
      },
      "source": [
        "def plot_learningCurve(history, epoch):\n",
        "  # plot training  validation accuracy values\n",
        "  epoch_range = range(1, epoch+1)\n",
        "  plt.plot(epoch_range, history.history['accuracy'])\n",
        "  plt.plot(epoch_range, history.history['val_accuracy'])\n",
        "  plt.title('Model Accuracy')\n",
        "  plt.xlabel('Epoch')\n",
        "  plt.ylabel('Accuracy')\n",
        "  plt.legend(['Train', 'Val'], loc = 'upper left')\n",
        "  plt.show()\n",
        "\n",
        "  # plot training & valiation loss values\n",
        "  plt.plot(epoch_range, history.history['loss'])\n",
        "  plt.plot(epoch_range, history.history['val_loss'])\n",
        "  plt.title('Model Loss')\n",
        "  plt.xlabel('Epoch')\n",
        "  plt.ylabel('Loss')\n",
        "  plt.legend(['Train', 'Val'], loc = 'upper left')\n",
        "  plt.show() "
      ],
      "execution_count": 57,
      "outputs": []
    },
    {
      "cell_type": "code",
      "metadata": {
        "colab": {
          "base_uri": "https://localhost:8080/",
          "height": 573
        },
        "id": "OdwWNKNtJ4wk",
        "outputId": "a767b831-bc95-41ff-c82a-e639d028dbc6"
      },
      "source": [
        "plot_learningCurve(history, epochs)"
      ],
      "execution_count": 58,
      "outputs": [
        {
          "output_type": "display_data",
          "data": {
            "image/png": "[encoded data removed]",
            "text/plain": [
              "<Figure size 432x288 with 1 Axes>"
            ]
          },
          "metadata": {
            "tags": [],
            "needs_background": "light"
          }
        },
        {
          "output_type": "display_data",
          "data": {
            "image/png": "[encoded data removed]",
            "text/plain": [
              "<Figure size 432x288 with 1 Axes>"
            ]
          },
          "metadata": {
            "tags": [],
            "needs_background": "light"
          }
        }
      ]
    },
    {
      "cell_type": "code",
      "metadata": {
        "id": "F8SWLXWrKEg_"
      },
      "source": [
        "\n",
        "epochs = 100\n",
        "model = Sequential()\n",
        "model.add(Conv1D(10, 2, activation='relu', input_shape=X_train[0].shape))\n",
        "model.add(BatchNormalization())\n",
        "model.add(MaxPool1D(2))\n",
        "model.add(Dropout(0.2)) # dropout 20% of neurons\n",
        "\n",
        "model.add(Conv1D(8, 2, activation='relu'))\n",
        "model.add(BatchNormalization())\n",
        "model.add(MaxPool1D(2))\n",
        "model.add(Dropout(0.5))\n",
        "\n",
        "model.add(Flatten()) # Flatten our 3D data into a vector\n",
        "model.add(Dense(6, activation='relu'))\n",
        "model.add(Dropout(0.5))\n",
        "\n",
        "model.add(Dense(1, activation='sigmoid'))"
      ],
      "execution_count": null,
      "outputs": []
    },
    {
      "cell_type": "code",
      "metadata": {
        "colab": {
          "base_uri": "https://localhost:8080/",
          "height": 1000
        },
        "id": "jKt0DbchKIr2",
        "outputId": "8bedaa27-a7b8-4198-82bc-d84ebe45998f"
      },
      "source": [
        "model.compile(optimizer=Adam(lr=0.0001), loss = 'binary_crossentropy', metrics=['accuracy'])\n",
        "history = model.fit(X_train, y_train, epochs=epochs, validation_data=(X_test, y_test), verbose=1)\n",
        "plot_learningCurve(history, epochs)"
      ],
      "execution_count": 59,
      "outputs": [
        {
          "output_type": "stream",
          "text": [
            "Epoch 1/20\n",
            "22/22 [==============================] - 1s 20ms/step - loss: 0.2063 - accuracy: 0.9261 - val_loss: 0.2077 - val_accuracy: 0.9088\n",
            "Epoch 2/20\n",
            "22/22 [==============================] - 0s 10ms/step - loss: 0.1552 - accuracy: 0.9431 - val_loss: 0.2053 - val_accuracy: 0.9054\n",
            "Epoch 3/20\n",
            "22/22 [==============================] - 0s 10ms/step - loss: 0.1797 - accuracy: 0.9394 - val_loss: 0.2039 - val_accuracy: 0.9054\n",
            "Epoch 4/20\n",
            "22/22 [==============================] - 0s 11ms/step - loss: 0.1660 - accuracy: 0.9465 - val_loss: 0.2035 - val_accuracy: 0.9088\n",
            "Epoch 5/20\n",
            "22/22 [==============================] - 0s 10ms/step - loss: 0.1345 - accuracy: 0.9521 - val_loss: 0.2022 - val_accuracy: 0.9054\n",
            "Epoch 6/20\n",
            "22/22 [==============================] - 0s 10ms/step - loss: 0.1431 - accuracy: 0.9518 - val_loss: 0.2007 - val_accuracy: 0.9088\n",
            "Epoch 7/20\n",
            "22/22 [==============================] - 0s 11ms/step - loss: 0.1273 - accuracy: 0.9569 - val_loss: 0.1984 - val_accuracy: 0.9020\n",
            "Epoch 8/20\n",
            "22/22 [==============================] - 0s 10ms/step - loss: 0.1813 - accuracy: 0.9326 - val_loss: 0.1998 - val_accuracy: 0.9122\n",
            "Epoch 9/20\n",
            "22/22 [==============================] - 0s 10ms/step - loss: 0.1708 - accuracy: 0.9466 - val_loss: 0.2007 - val_accuracy: 0.9088\n",
            "Epoch 10/20\n",
            "22/22 [==============================] - 0s 10ms/step - loss: 0.1641 - accuracy: 0.9540 - val_loss: 0.2029 - val_accuracy: 0.9088\n",
            "Epoch 11/20\n",
            "22/22 [==============================] - 0s 10ms/step - loss: 0.1500 - accuracy: 0.9381 - val_loss: 0.2042 - val_accuracy: 0.9088\n",
            "Epoch 12/20\n",
            "22/22 [==============================] - 0s 10ms/step - loss: 0.1725 - accuracy: 0.9253 - val_loss: 0.2028 - val_accuracy: 0.9088\n",
            "Epoch 13/20\n",
            "22/22 [==============================] - 0s 10ms/step - loss: 0.1712 - accuracy: 0.9521 - val_loss: 0.2003 - val_accuracy: 0.9088\n",
            "Epoch 14/20\n",
            "22/22 [==============================] - 0s 10ms/step - loss: 0.1510 - accuracy: 0.9444 - val_loss: 0.1976 - val_accuracy: 0.9088\n",
            "Epoch 15/20\n",
            "22/22 [==============================] - 0s 10ms/step - loss: 0.1398 - accuracy: 0.9460 - val_loss: 0.1991 - val_accuracy: 0.9054\n",
            "Epoch 16/20\n",
            "22/22 [==============================] - 0s 11ms/step - loss: 0.1446 - accuracy: 0.9472 - val_loss: 0.2008 - val_accuracy: 0.9054\n",
            "Epoch 17/20\n",
            "22/22 [==============================] - 0s 10ms/step - loss: 0.1605 - accuracy: 0.9478 - val_loss: 0.1982 - val_accuracy: 0.9020\n",
            "Epoch 18/20\n",
            "22/22 [==============================] - 0s 11ms/step - loss: 0.1631 - accuracy: 0.9347 - val_loss: 0.2004 - val_accuracy: 0.9054\n",
            "Epoch 19/20\n",
            "22/22 [==============================] - 0s 10ms/step - loss: 0.1439 - accuracy: 0.9350 - val_loss: 0.2019 - val_accuracy: 0.9054\n",
            "Epoch 20/20\n",
            "22/22 [==============================] - 0s 10ms/step - loss: 0.1454 - accuracy: 0.9443 - val_loss: 0.2057 - val_accuracy: 0.9054\n"
          ],
          "name": "stdout"
        },
        {
          "output_type": "display_data",
          "data": {
            "image/png": "[encoded data removed]",
            "text/plain": [
              "<Figure size 432x288 with 1 Axes>"
            ]
          },
          "metadata": {
            "tags": [],
            "needs_background": "light"
          }
        },
        {
          "output_type": "display_data",
          "data": {
            "image/png": "[encoded data removed]",
            "text/plain": [
              "<Figure size 432x288 with 1 Axes>"
            ]
          },
          "metadata": {
            "tags": [],
            "needs_background": "light"
          }
        }
      ]
    },
    {
      "cell_type": "code",
      "metadata": {
        "id": "hPXqZl0nKRe9"
      },
      "source": [
        "epochs = 50\n",
        "model = Sequential()\n",
        "model.add(Conv1D(32, 2, activation='relu', input_shape=X_train[0].shape))\n",
        "model.add(BatchNormalization())\n",
        "model.add(MaxPool1D(2))\n",
        "model.add(Dropout(0.2)) # dropout 20% of neurons\n",
        "\n",
        "model.add(Conv1D(64, 2, activation='relu'))\n",
        "model.add(BatchNormalization())\n",
        "model.add(MaxPool1D(2))\n",
        "model.add(Dropout(0.5))\n",
        "\n",
        "model.add(Flatten()) # Flatten our 3D data into a vector\n",
        "model.add(Dense(64, activation='relu'))\n",
        "model.add(Dropout(0.5))\n",
        "\n",
        "model.add(Dense(1, activation='sigmoid'))"
      ],
      "execution_count": null,
      "outputs": []
    },
    {
      "cell_type": "code",
      "metadata": {
        "colab": {
          "base_uri": "https://localhost:8080/",
          "height": 1000
        },
        "id": "2gs6gGP-KXCB",
        "outputId": "5762887a-7066-40e0-b44b-e4b430025fe7"
      },
      "source": [
        "model.compile(optimizer=Adam(lr=0.0001), loss = 'binary_crossentropy', metrics=['accuracy'])\n",
        "history = model.fit(X_train, y_train, epochs=epochs, validation_data=(X_test, y_test), verbose=1)\n",
        "plot_learningCurve(history, epochs)"
      ],
      "execution_count": 60,
      "outputs": [
        {
          "output_type": "stream",
          "text": [
            "Epoch 1/20\n",
            "22/22 [==============================] - 1s 19ms/step - loss: 0.1439 - accuracy: 0.9489 - val_loss: 0.2074 - val_accuracy: 0.9054\n",
            "Epoch 2/20\n",
            "22/22 [==============================] - 0s 10ms/step - loss: 0.1521 - accuracy: 0.9466 - val_loss: 0.2034 - val_accuracy: 0.9054\n",
            "Epoch 3/20\n",
            "22/22 [==============================] - 0s 11ms/step - loss: 0.1573 - accuracy: 0.9523 - val_loss: 0.2078 - val_accuracy: 0.9088\n",
            "Epoch 4/20\n",
            "22/22 [==============================] - 0s 10ms/step - loss: 0.1384 - accuracy: 0.9523 - val_loss: 0.2036 - val_accuracy: 0.9054\n",
            "Epoch 5/20\n",
            "22/22 [==============================] - 0s 10ms/step - loss: 0.1195 - accuracy: 0.9590 - val_loss: 0.2045 - val_accuracy: 0.9020\n",
            "Epoch 6/20\n",
            "22/22 [==============================] - 0s 10ms/step - loss: 0.1179 - accuracy: 0.9608 - val_loss: 0.2033 - val_accuracy: 0.8986\n",
            "Epoch 7/20\n",
            "22/22 [==============================] - 0s 11ms/step - loss: 0.1397 - accuracy: 0.9437 - val_loss: 0.2074 - val_accuracy: 0.9054\n",
            "Epoch 8/20\n",
            "22/22 [==============================] - 0s 10ms/step - loss: 0.1471 - accuracy: 0.9458 - val_loss: 0.2032 - val_accuracy: 0.9020\n",
            "Epoch 9/20\n",
            "22/22 [==============================] - 0s 11ms/step - loss: 0.1486 - accuracy: 0.9512 - val_loss: 0.1988 - val_accuracy: 0.8986\n",
            "Epoch 10/20\n",
            "22/22 [==============================] - 0s 10ms/step - loss: 0.1744 - accuracy: 0.9381 - val_loss: 0.1962 - val_accuracy: 0.9020\n",
            "Epoch 11/20\n",
            "22/22 [==============================] - 0s 10ms/step - loss: 0.1181 - accuracy: 0.9584 - val_loss: 0.1988 - val_accuracy: 0.9054\n",
            "Epoch 12/20\n",
            "22/22 [==============================] - 0s 10ms/step - loss: 0.1112 - accuracy: 0.9660 - val_loss: 0.1970 - val_accuracy: 0.9020\n",
            "Epoch 13/20\n",
            "22/22 [==============================] - 0s 10ms/step - loss: 0.1226 - accuracy: 0.9491 - val_loss: 0.1967 - val_accuracy: 0.9088\n",
            "Epoch 14/20\n",
            "22/22 [==============================] - 0s 9ms/step - loss: 0.1467 - accuracy: 0.9651 - val_loss: 0.1965 - val_accuracy: 0.9088\n",
            "Epoch 15/20\n",
            "22/22 [==============================] - 0s 10ms/step - loss: 0.1178 - accuracy: 0.9564 - val_loss: 0.1954 - val_accuracy: 0.9054\n",
            "Epoch 16/20\n",
            "22/22 [==============================] - 0s 10ms/step - loss: 0.1274 - accuracy: 0.9556 - val_loss: 0.1967 - val_accuracy: 0.9054\n",
            "Epoch 17/20\n",
            "22/22 [==============================] - 0s 11ms/step - loss: 0.1014 - accuracy: 0.9675 - val_loss: 0.1980 - val_accuracy: 0.9088\n",
            "Epoch 18/20\n",
            "22/22 [==============================] - 0s 11ms/step - loss: 0.1237 - accuracy: 0.9628 - val_loss: 0.2001 - val_accuracy: 0.9088\n",
            "Epoch 19/20\n",
            "22/22 [==============================] - 0s 11ms/step - loss: 0.1236 - accuracy: 0.9421 - val_loss: 0.2008 - val_accuracy: 0.9088\n",
            "Epoch 20/20\n",
            "22/22 [==============================] - 0s 11ms/step - loss: 0.1299 - accuracy: 0.9526 - val_loss: 0.1985 - val_accuracy: 0.9088\n"
          ],
          "name": "stdout"
        },
        {
          "output_type": "display_data",
          "data": {
            "image/png": "[encoded data removed]",
            "text/plain": [
              "<Figure size 432x288 with 1 Axes>"
            ]
          },
          "metadata": {
            "tags": [],
            "needs_background": "light"
          }
        },
        {
          "output_type": "display_data",
          "data": {
            "image/png": "[encoded data removed]",
            "text/plain": [
              "<Figure size 432x288 with 1 Axes>"
            ]
          },
          "metadata": {
            "tags": [],
            "needs_background": "light"
          }
        }
      ]
    },
    {
      "cell_type": "code",
      "metadata": {
        "colab": {
          "base_uri": "https://localhost:8080/",
          "height": 1000
        },
        "id": "EXzOqKeiKdGu",
        "outputId": "9840a389-65e4-4c38-e69b-e8627fd2235d"
      },
      "source": [
        "model.compile(optimizer=Adam(lr=0.0001), loss = 'binary_crossentropy', metrics=['accuracy'])\n",
        "history = model.fit(X_train, y_train, epochs=epochs, validation_data=(X_test, y_test), verbose=1)\n",
        "plot_learningCurve(history, epochs)"
      ],
      "execution_count": 61,
      "outputs": [
        {
          "output_type": "stream",
          "text": [
            "Epoch 1/20\n",
            "22/22 [==============================] - 1s 20ms/step - loss: 0.1470 - accuracy: 0.9503 - val_loss: 0.2003 - val_accuracy: 0.9088\n",
            "Epoch 2/20\n",
            "22/22 [==============================] - 0s 10ms/step - loss: 0.1157 - accuracy: 0.9584 - val_loss: 0.2010 - val_accuracy: 0.9088\n",
            "Epoch 3/20\n",
            "22/22 [==============================] - 0s 10ms/step - loss: 0.0926 - accuracy: 0.9616 - val_loss: 0.2018 - val_accuracy: 0.9088\n",
            "Epoch 4/20\n",
            "22/22 [==============================] - 0s 10ms/step - loss: 0.0835 - accuracy: 0.9639 - val_loss: 0.2031 - val_accuracy: 0.9088\n",
            "Epoch 5/20\n",
            "22/22 [==============================] - 0s 10ms/step - loss: 0.1187 - accuracy: 0.9668 - val_loss: 0.2063 - val_accuracy: 0.9088\n",
            "Epoch 6/20\n",
            "22/22 [==============================] - 0s 10ms/step - loss: 0.1233 - accuracy: 0.9543 - val_loss: 0.2007 - val_accuracy: 0.9088\n",
            "Epoch 7/20\n",
            "22/22 [==============================] - 0s 10ms/step - loss: 0.0990 - accuracy: 0.9669 - val_loss: 0.1970 - val_accuracy: 0.9122\n",
            "Epoch 8/20\n",
            "22/22 [==============================] - 0s 11ms/step - loss: 0.0903 - accuracy: 0.9647 - val_loss: 0.1948 - val_accuracy: 0.9122\n",
            "Epoch 9/20\n",
            "22/22 [==============================] - 0s 11ms/step - loss: 0.1305 - accuracy: 0.9576 - val_loss: 0.1916 - val_accuracy: 0.9054\n",
            "Epoch 10/20\n",
            "22/22 [==============================] - 0s 10ms/step - loss: 0.1474 - accuracy: 0.9482 - val_loss: 0.1923 - val_accuracy: 0.9122\n",
            "Epoch 11/20\n",
            "22/22 [==============================] - 0s 10ms/step - loss: 0.1052 - accuracy: 0.9627 - val_loss: 0.1930 - val_accuracy: 0.9122\n",
            "Epoch 12/20\n",
            "22/22 [==============================] - 0s 10ms/step - loss: 0.1301 - accuracy: 0.9611 - val_loss: 0.1912 - val_accuracy: 0.9122\n",
            "Epoch 13/20\n",
            "22/22 [==============================] - 0s 11ms/step - loss: 0.1046 - accuracy: 0.9673 - val_loss: 0.1935 - val_accuracy: 0.9122\n",
            "Epoch 14/20\n",
            "22/22 [==============================] - 0s 10ms/step - loss: 0.0980 - accuracy: 0.9694 - val_loss: 0.1957 - val_accuracy: 0.9155\n",
            "Epoch 15/20\n",
            "22/22 [==============================] - 0s 10ms/step - loss: 0.1181 - accuracy: 0.9573 - val_loss: 0.1954 - val_accuracy: 0.9155\n",
            "Epoch 16/20\n",
            "22/22 [==============================] - 0s 10ms/step - loss: 0.0851 - accuracy: 0.9730 - val_loss: 0.1979 - val_accuracy: 0.9155\n",
            "Epoch 17/20\n",
            "22/22 [==============================] - 0s 10ms/step - loss: 0.1096 - accuracy: 0.9562 - val_loss: 0.1993 - val_accuracy: 0.9155\n",
            "Epoch 18/20\n",
            "22/22 [==============================] - 0s 11ms/step - loss: 0.0922 - accuracy: 0.9655 - val_loss: 0.2000 - val_accuracy: 0.9155\n",
            "Epoch 19/20\n",
            "22/22 [==============================] - 0s 11ms/step - loss: 0.1209 - accuracy: 0.9493 - val_loss: 0.1953 - val_accuracy: 0.9155\n",
            "Epoch 20/20\n",
            "22/22 [==============================] - 0s 10ms/step - loss: 0.0964 - accuracy: 0.9606 - val_loss: 0.1990 - val_accuracy: 0.9122\n"
          ],
          "name": "stdout"
        },
        {
          "output_type": "display_data",
          "data": {
            "image/png": "[encoded data removed]",
            "text/plain": [
              "<Figure size 432x288 with 1 Axes>"
            ]
          },
          "metadata": {
            "tags": [],
            "needs_background": "light"
          }
        },
        {
          "output_type": "display_data",
          "data": {
            "image/png": "[encoded data removed]",
            "text/plain": [
              "<Figure size 432x288 with 1 Axes>"
            ]
          },
          "metadata": {
            "tags": [],
            "needs_background": "light"
          }
        }
      ]
    },
    {
      "cell_type": "code",
      "metadata": {
        "id": "IQYxTyJJKkkt"
      },
      "source": [
        "y_pred = model.predict(X_test)"
      ],
      "execution_count": null,
      "outputs": []
    },
    {
      "cell_type": "code",
      "metadata": {
        "colab": {
          "base_uri": "https://localhost:8080/"
        },
        "id": "B3KWpySmKsSz",
        "outputId": "e28295c5-778e-4239-d95c-f4052b426a3f"
      },
      "source": [
        "testing = model.evaluate(X_test, y_test)"
      ],
      "execution_count": 62,
      "outputs": [
        {
          "output_type": "stream",
          "text": [
            "10/10 [==============================] - 0s 2ms/step - loss: 0.1990 - accuracy: 0.9122\n"
          ],
          "name": "stdout"
        }
      ]
    },
    {
      "cell_type": "code",
      "metadata": {
        "id": "XI6cLZQWKuUZ"
      },
      "source": [
        "predictions = model.predict(X_test)\n",
        "predictions = predictions.flatten()"
      ],
      "execution_count": 64,
      "outputs": []
    },
    {
      "cell_type": "code",
      "metadata": {
        "colab": {
          "base_uri": "https://localhost:8080/"
        },
        "id": "B8tFEZ3pK0GB",
        "outputId": "95bd60a3-89a4-401d-eaf9-4b7dd98926f3"
      },
      "source": [
        "predictions"
      ],
      "execution_count": 65,
      "outputs": [
        {
          "output_type": "execute_result",
          "data": {
            "text/plain": [
              "array([1.88447326e-01, 2.91970372e-02, 9.99998450e-01, 6.46655560e-02,\n",
              "       1.00000000e+00, 6.89473748e-03, 9.20158029e-01, 4.33453023e-02,\n",
              "       6.25792146e-03, 9.99963164e-01, 7.38766789e-03, 1.19962811e-01,\n",
              "       1.00000000e+00, 3.24076653e-01, 1.00000000e+00, 9.99875128e-01,\n",
              "       1.00000000e+00, 1.25908852e-03, 1.00000000e+00, 1.00000000e+00,\n",
              "       9.92591143e-01, 5.83477020e-02, 1.00000000e+00, 2.60922313e-03,\n",
              "       1.69182867e-01, 4.35760617e-03, 5.59807718e-02, 1.00000000e+00,\n",
              "       2.46967971e-02, 2.60978043e-02, 9.95372534e-01, 9.99824762e-01,\n",
              "       1.54278576e-02, 2.81688571e-03, 2.85455585e-03, 4.82085586e-01,\n",
              "       2.55025625e-02, 9.99992311e-01, 1.41057372e-02, 9.99999702e-01,\n",
              "       6.23863161e-01, 1.00000000e+00, 2.98161805e-02, 9.99993622e-01,\n",
              "       1.00000000e+00, 2.75969505e-04, 3.87289375e-01, 3.80673409e-02,\n",
              "       2.67054558e-01, 9.99999762e-01, 1.00000000e+00, 9.99901831e-01,\n",
              "       9.99998271e-01, 1.00000000e+00, 4.27746773e-03, 2.26234496e-02,\n",
              "       6.46692514e-03, 8.69187117e-02, 9.99999702e-01, 9.99945939e-01,\n",
              "       9.99623418e-01, 1.39721334e-02, 3.77896428e-03, 8.47154856e-02,\n",
              "       7.39938021e-03, 9.99999523e-01, 1.24423802e-02, 3.24379742e-01,\n",
              "       1.28809005e-01, 9.99901295e-01, 4.50854003e-02, 9.88681972e-01,\n",
              "       1.00000000e+00, 3.92611027e-02, 6.89458847e-03, 9.74983692e-01,\n",
              "       9.99714375e-01, 4.41762805e-03, 5.85281253e-02, 9.99990702e-01,\n",
              "       9.99994993e-01, 4.90662456e-03, 9.99999762e-01, 9.99987125e-01,\n",
              "       9.99524236e-01, 7.00151920e-03, 9.99547243e-01, 2.55878270e-01,\n",
              "       5.21743596e-01, 2.36009359e-02, 1.00000000e+00, 9.99996424e-01,\n",
              "       1.00000000e+00, 2.58464217e-02, 1.00000000e+00, 1.00000000e+00,\n",
              "       1.67575866e-01, 9.86560345e-01, 1.00000000e+00, 1.17369592e-02,\n",
              "       1.00000000e+00, 5.55747747e-03, 9.99989808e-01, 9.99995887e-01,\n",
              "       2.77328014e-01, 8.80869031e-02, 1.00000000e+00, 1.00000000e+00,\n",
              "       3.93922031e-02, 9.99995708e-01, 9.99999762e-01, 9.99738216e-01,\n",
              "       3.33002806e-02, 1.26914352e-01, 9.96349216e-01, 4.74209845e-01,\n",
              "       9.99964893e-01, 2.61069715e-01, 1.00000000e+00, 2.84940571e-01,\n",
              "       1.00000000e+00, 9.99992847e-01, 5.65913320e-03, 5.45412302e-03,\n",
              "       3.57835352e-01, 1.00000000e+00, 1.00000000e+00, 1.00000000e+00,\n",
              "       1.18152201e-02, 1.00000000e+00, 7.13491142e-02, 1.00000000e+00,\n",
              "       2.66439915e-02, 3.15322340e-01, 5.49619794e-02, 1.40453875e-02,\n",
              "       5.36194444e-03, 1.08340383e-03, 3.82351875e-03, 3.46217453e-02,\n",
              "       9.99999046e-01, 1.68844879e-01, 1.00000000e+00, 6.69309497e-03,\n",
              "       2.11405456e-02, 1.00000000e+00, 9.99833047e-01, 9.36819673e-01,\n",
              "       3.66980195e-01, 6.97736144e-02, 3.67172062e-02, 1.94436908e-02,\n",
              "       1.19879246e-02, 1.00000000e+00, 9.99994278e-01, 2.82564163e-02,\n",
              "       1.02731347e-01, 2.72565782e-02, 2.03174353e-03, 3.97295356e-02,\n",
              "       1.69236124e-01, 3.98570001e-02, 4.64451313e-03, 9.99994040e-01,\n",
              "       3.86428833e-03, 4.20221686e-03, 1.37836486e-01, 1.84445381e-02,\n",
              "       2.52053738e-02, 1.00000000e+00, 9.99992132e-01, 1.00000000e+00,\n",
              "       1.00000000e+00, 9.96164143e-01, 6.61806226e-01, 4.27142978e-02,\n",
              "       9.71277297e-01, 1.60040587e-01, 3.49113941e-02, 1.00000000e+00,\n",
              "       1.94150209e-03, 9.99999285e-01, 2.10754186e-01, 5.76850772e-03,\n",
              "       9.99999464e-01, 1.00000000e+00, 2.10155457e-01, 2.37177014e-02,\n",
              "       1.00000000e+00, 7.70550966e-02, 3.62157524e-02, 9.99999762e-01,\n",
              "       1.00000000e+00, 9.99999762e-01, 8.59871507e-01, 9.99978006e-01,\n",
              "       1.00000000e+00, 9.99999404e-01, 3.35316658e-02, 4.93142903e-02,\n",
              "       1.00000000e+00, 9.99965549e-01, 9.65664983e-02, 1.30697489e-01,\n",
              "       6.22701645e-03, 3.52919847e-01, 3.48958373e-01, 9.99984205e-01,\n",
              "       8.61924529e-01, 6.62273169e-02, 1.70454562e-01, 2.05827057e-02,\n",
              "       9.98356104e-01, 3.01105380e-02, 6.47085905e-03, 4.56497669e-02,\n",
              "       3.63618135e-04, 1.22525364e-01, 1.00000000e+00, 1.79609656e-02,\n",
              "       3.61492217e-01, 6.95290864e-02, 9.99572754e-01, 1.50445700e-02,\n",
              "       1.00000000e+00, 2.88861990e-03, 9.99967694e-01, 7.28765726e-02,\n",
              "       5.11085987e-03, 6.95856810e-02, 2.29089558e-02, 1.00000000e+00,\n",
              "       4.70871627e-02, 9.99997258e-01, 1.05309188e-02, 9.99442220e-01,\n",
              "       1.84968114e-03, 5.50111234e-02, 7.46121705e-02, 1.00000000e+00,\n",
              "       1.46387875e-01, 1.00000000e+00, 1.00000000e+00, 6.66573644e-03,\n",
              "       9.99533534e-01, 2.64039040e-02, 8.61687660e-02, 5.44479489e-03,\n",
              "       2.96756625e-03, 1.00000000e+00, 8.59996676e-03, 1.00000000e+00,\n",
              "       9.99999642e-01, 1.00000000e+00, 3.45209539e-02, 1.25660598e-02,\n",
              "       6.35410249e-02, 1.80342793e-03, 7.51137733e-04, 9.99999642e-01,\n",
              "       1.69590116e-02, 9.99999404e-01, 3.07804644e-02, 9.99991655e-01,\n",
              "       9.99999881e-01, 9.99794662e-01, 2.35664845e-03, 1.70751810e-02,\n",
              "       9.99994636e-01, 2.48803496e-01, 1.39426291e-02, 1.00000000e+00,\n",
              "       5.99250197e-03, 3.14973891e-02, 1.97211802e-02, 2.83257365e-02,\n",
              "       4.74222571e-01, 3.43778491e-01, 5.02973795e-03, 3.36688757e-03,\n",
              "       4.51209247e-02, 1.07720196e-02, 1.00000000e+00, 3.64691019e-03,\n",
              "       3.09522748e-02, 1.29391700e-01, 4.07014489e-02, 1.00000000e+00,\n",
              "       7.70184696e-02, 9.99934912e-01, 1.00000000e+00, 5.24544418e-02,\n",
              "       1.01945996e-01, 2.51161337e-01, 6.12443089e-02, 1.00000000e+00],\n",
              "      dtype=float32)"
            ]
          },
          "metadata": {
            "tags": []
          },
          "execution_count": 65
        }
      ]
    },
    {
      "cell_type": "code",
      "metadata": {
        "colab": {
          "base_uri": "https://localhost:8080/"
        },
        "id": "Ea7Wp0fPK9Ux",
        "outputId": "fe01f7b8-19d9-4ac4-a1e5-1ae72e40f8cd"
      },
      "source": [
        "testing = model.evaluate(X_test, y_test)"
      ],
      "execution_count": 66,
      "outputs": [
        {
          "output_type": "stream",
          "text": [
            "10/10 [==============================] - 0s 2ms/step - loss: 0.1990 - accuracy: 0.9122\n"
          ],
          "name": "stdout"
        }
      ]
    },
    {
      "cell_type": "markdown",
      "metadata": {
        "id": "uoHQxSc-ePqK"
      },
      "source": [
        "# New Section"
      ]
    }
  ]
}