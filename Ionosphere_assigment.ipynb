{
  "nbformat": 4,
  "nbformat_minor": 0,
  "metadata": {
    "colab": {
      "name": "Ionosphere-assigment.ipynb",
      "provenance": []
    },
    "kernelspec": {
      "name": "python3",
      "display_name": "Python 3"
    },
    "language_info": {
      "name": "python"
    }
  },
  "cells": [
    {
      "cell_type": "code",
      "metadata": {
        "id": "UBo0kENLk0bu"
      },
      "source": [
        "\n",
        "import tensorflow as tf\n",
        "import pandas as pd\n",
        "import numpy as np\n",
        "import matplotlib.pyplot as plt"
      ],
      "execution_count": 1,
      "outputs": []
    },
    {
      "cell_type": "code",
      "metadata": {
        "id": "rgnehtEkw2yC"
      },
      "source": [
        "df =  pd.read_csv('/content/drive/MyDrive/AI-assigment/ionosphere_data.csv')"
      ],
      "execution_count": 2,
      "outputs": []
    },
    {
      "cell_type": "code",
      "metadata": {
        "colab": {
          "base_uri": "https://localhost:8080/",
          "height": 224
        },
        "id": "SYQuuJTVx8Bh",
        "outputId": "dde39471-cc6d-4aee-e041-87c6d0c5537a"
      },
      "source": [
        "df.head()"
      ],
      "execution_count": 3,
      "outputs": [
        {
          "output_type": "execute_result",
          "data": {
            "text/html": [
              "<div>\n",
              "<style scoped>\n",
              "    .dataframe tbody tr th:only-of-type {\n",
              "        vertical-align: middle;\n",
              "    }\n",
              "\n",
              "    .dataframe tbody tr th {\n",
              "        vertical-align: top;\n",
              "    }\n",
              "\n",
              "    .dataframe thead th {\n",
              "        text-align: right;\n",
              "    }\n",
              "</style>\n",
              "<table border=\"1\" class=\"dataframe\">\n",
              "  <thead>\n",
              "    <tr style=\"text-align: right;\">\n",
              "      <th></th>\n",
              "      <th>feature1</th>\n",
              "      <th>feature2</th>\n",
              "      <th>feature3</th>\n",
              "      <th>feature4</th>\n",
              "      <th>feature5</th>\n",
              "      <th>feature6</th>\n",
              "      <th>feature7</th>\n",
              "      <th>feature8</th>\n",
              "      <th>feature9</th>\n",
              "      <th>feature10</th>\n",
              "      <th>feature11</th>\n",
              "      <th>feature12</th>\n",
              "      <th>feature13</th>\n",
              "      <th>feature14</th>\n",
              "      <th>feature15</th>\n",
              "      <th>feature16</th>\n",
              "      <th>feature17</th>\n",
              "      <th>feature18</th>\n",
              "      <th>feature19</th>\n",
              "      <th>feature20</th>\n",
              "      <th>feature21</th>\n",
              "      <th>feature22</th>\n",
              "      <th>feature23</th>\n",
              "      <th>feature24</th>\n",
              "      <th>feature25</th>\n",
              "      <th>feature26</th>\n",
              "      <th>feature27</th>\n",
              "      <th>feature28</th>\n",
              "      <th>feature29</th>\n",
              "      <th>feature30</th>\n",
              "      <th>feature31</th>\n",
              "      <th>feature32</th>\n",
              "      <th>feature33</th>\n",
              "      <th>feature34</th>\n",
              "      <th>label</th>\n",
              "    </tr>\n",
              "  </thead>\n",
              "  <tbody>\n",
              "    <tr>\n",
              "      <th>0</th>\n",
              "      <td>1</td>\n",
              "      <td>0</td>\n",
              "      <td>0.99539</td>\n",
              "      <td>-0.05889</td>\n",
              "      <td>0.85243</td>\n",
              "      <td>0.02306</td>\n",
              "      <td>0.83398</td>\n",
              "      <td>-0.37708</td>\n",
              "      <td>1.00000</td>\n",
              "      <td>0.03760</td>\n",
              "      <td>0.85243</td>\n",
              "      <td>-0.17755</td>\n",
              "      <td>0.59755</td>\n",
              "      <td>-0.44945</td>\n",
              "      <td>0.60536</td>\n",
              "      <td>-0.38223</td>\n",
              "      <td>0.84356</td>\n",
              "      <td>-0.38542</td>\n",
              "      <td>0.58212</td>\n",
              "      <td>-0.32192</td>\n",
              "      <td>0.56971</td>\n",
              "      <td>-0.29674</td>\n",
              "      <td>0.36946</td>\n",
              "      <td>-0.47357</td>\n",
              "      <td>0.56811</td>\n",
              "      <td>-0.51171</td>\n",
              "      <td>0.41078</td>\n",
              "      <td>-0.46168</td>\n",
              "      <td>0.21266</td>\n",
              "      <td>-0.34090</td>\n",
              "      <td>0.42267</td>\n",
              "      <td>-0.54487</td>\n",
              "      <td>0.18641</td>\n",
              "      <td>-0.45300</td>\n",
              "      <td>g</td>\n",
              "    </tr>\n",
              "    <tr>\n",
              "      <th>1</th>\n",
              "      <td>1</td>\n",
              "      <td>0</td>\n",
              "      <td>1.00000</td>\n",
              "      <td>-0.18829</td>\n",
              "      <td>0.93035</td>\n",
              "      <td>-0.36156</td>\n",
              "      <td>-0.10868</td>\n",
              "      <td>-0.93597</td>\n",
              "      <td>1.00000</td>\n",
              "      <td>-0.04549</td>\n",
              "      <td>0.50874</td>\n",
              "      <td>-0.67743</td>\n",
              "      <td>0.34432</td>\n",
              "      <td>-0.69707</td>\n",
              "      <td>-0.51685</td>\n",
              "      <td>-0.97515</td>\n",
              "      <td>0.05499</td>\n",
              "      <td>-0.62237</td>\n",
              "      <td>0.33109</td>\n",
              "      <td>-1.00000</td>\n",
              "      <td>-0.13151</td>\n",
              "      <td>-0.45300</td>\n",
              "      <td>-0.18056</td>\n",
              "      <td>-0.35734</td>\n",
              "      <td>-0.20332</td>\n",
              "      <td>-0.26569</td>\n",
              "      <td>-0.20468</td>\n",
              "      <td>-0.18401</td>\n",
              "      <td>-0.19040</td>\n",
              "      <td>-0.11593</td>\n",
              "      <td>-0.16626</td>\n",
              "      <td>-0.06288</td>\n",
              "      <td>-0.13738</td>\n",
              "      <td>-0.02447</td>\n",
              "      <td>b</td>\n",
              "    </tr>\n",
              "    <tr>\n",
              "      <th>2</th>\n",
              "      <td>1</td>\n",
              "      <td>0</td>\n",
              "      <td>1.00000</td>\n",
              "      <td>-0.03365</td>\n",
              "      <td>1.00000</td>\n",
              "      <td>0.00485</td>\n",
              "      <td>1.00000</td>\n",
              "      <td>-0.12062</td>\n",
              "      <td>0.88965</td>\n",
              "      <td>0.01198</td>\n",
              "      <td>0.73082</td>\n",
              "      <td>0.05346</td>\n",
              "      <td>0.85443</td>\n",
              "      <td>0.00827</td>\n",
              "      <td>0.54591</td>\n",
              "      <td>0.00299</td>\n",
              "      <td>0.83775</td>\n",
              "      <td>-0.13644</td>\n",
              "      <td>0.75535</td>\n",
              "      <td>-0.08540</td>\n",
              "      <td>0.70887</td>\n",
              "      <td>-0.27502</td>\n",
              "      <td>0.43385</td>\n",
              "      <td>-0.12062</td>\n",
              "      <td>0.57528</td>\n",
              "      <td>-0.40220</td>\n",
              "      <td>0.58984</td>\n",
              "      <td>-0.22145</td>\n",
              "      <td>0.43100</td>\n",
              "      <td>-0.17365</td>\n",
              "      <td>0.60436</td>\n",
              "      <td>-0.24180</td>\n",
              "      <td>0.56045</td>\n",
              "      <td>-0.38238</td>\n",
              "      <td>g</td>\n",
              "    </tr>\n",
              "    <tr>\n",
              "      <th>3</th>\n",
              "      <td>1</td>\n",
              "      <td>0</td>\n",
              "      <td>1.00000</td>\n",
              "      <td>-0.45161</td>\n",
              "      <td>1.00000</td>\n",
              "      <td>1.00000</td>\n",
              "      <td>0.71216</td>\n",
              "      <td>-1.00000</td>\n",
              "      <td>0.00000</td>\n",
              "      <td>0.00000</td>\n",
              "      <td>0.00000</td>\n",
              "      <td>0.00000</td>\n",
              "      <td>0.00000</td>\n",
              "      <td>0.00000</td>\n",
              "      <td>-1.00000</td>\n",
              "      <td>0.14516</td>\n",
              "      <td>0.54094</td>\n",
              "      <td>-0.39330</td>\n",
              "      <td>-1.00000</td>\n",
              "      <td>-0.54467</td>\n",
              "      <td>-0.69975</td>\n",
              "      <td>1.00000</td>\n",
              "      <td>0.00000</td>\n",
              "      <td>0.00000</td>\n",
              "      <td>1.00000</td>\n",
              "      <td>0.90695</td>\n",
              "      <td>0.51613</td>\n",
              "      <td>1.00000</td>\n",
              "      <td>1.00000</td>\n",
              "      <td>-0.20099</td>\n",
              "      <td>0.25682</td>\n",
              "      <td>1.00000</td>\n",
              "      <td>-0.32382</td>\n",
              "      <td>1.00000</td>\n",
              "      <td>b</td>\n",
              "    </tr>\n",
              "    <tr>\n",
              "      <th>4</th>\n",
              "      <td>1</td>\n",
              "      <td>0</td>\n",
              "      <td>1.00000</td>\n",
              "      <td>-0.02401</td>\n",
              "      <td>0.94140</td>\n",
              "      <td>0.06531</td>\n",
              "      <td>0.92106</td>\n",
              "      <td>-0.23255</td>\n",
              "      <td>0.77152</td>\n",
              "      <td>-0.16399</td>\n",
              "      <td>0.52798</td>\n",
              "      <td>-0.20275</td>\n",
              "      <td>0.56409</td>\n",
              "      <td>-0.00712</td>\n",
              "      <td>0.34395</td>\n",
              "      <td>-0.27457</td>\n",
              "      <td>0.52940</td>\n",
              "      <td>-0.21780</td>\n",
              "      <td>0.45107</td>\n",
              "      <td>-0.17813</td>\n",
              "      <td>0.05982</td>\n",
              "      <td>-0.35575</td>\n",
              "      <td>0.02309</td>\n",
              "      <td>-0.52879</td>\n",
              "      <td>0.03286</td>\n",
              "      <td>-0.65158</td>\n",
              "      <td>0.13290</td>\n",
              "      <td>-0.53206</td>\n",
              "      <td>0.02431</td>\n",
              "      <td>-0.62197</td>\n",
              "      <td>-0.05707</td>\n",
              "      <td>-0.59573</td>\n",
              "      <td>-0.04608</td>\n",
              "      <td>-0.65697</td>\n",
              "      <td>g</td>\n",
              "    </tr>\n",
              "  </tbody>\n",
              "</table>\n",
              "</div>"
            ],
            "text/plain": [
              "   feature1  feature2  feature3  ...  feature33  feature34  label\n",
              "0         1         0   0.99539  ...    0.18641   -0.45300      g\n",
              "1         1         0   1.00000  ...   -0.13738   -0.02447      b\n",
              "2         1         0   1.00000  ...    0.56045   -0.38238      g\n",
              "3         1         0   1.00000  ...   -0.32382    1.00000      b\n",
              "4         1         0   1.00000  ...   -0.04608   -0.65697      g\n",
              "\n",
              "[5 rows x 35 columns]"
            ]
          },
          "metadata": {
            "tags": []
          },
          "execution_count": 3
        }
      ]
    },
    {
      "cell_type": "code",
      "metadata": {
        "colab": {
          "base_uri": "https://localhost:8080/"
        },
        "id": "p1KN0fF9yMSy",
        "outputId": "3711f2d9-fa71-4343-b991-d4b36768b549"
      },
      "source": [
        "df.shape"
      ],
      "execution_count": 4,
      "outputs": [
        {
          "output_type": "execute_result",
          "data": {
            "text/plain": [
              "(351, 35)"
            ]
          },
          "metadata": {
            "tags": []
          },
          "execution_count": 4
        }
      ]
    },
    {
      "cell_type": "code",
      "metadata": {
        "colab": {
          "base_uri": "https://localhost:8080/"
        },
        "id": "aEd7EHNwySeg",
        "outputId": "3ead01d3-a5c3-4773-b4ac-ba8faf08ec83"
      },
      "source": [
        "for feature in df:\n",
        "    print(feature)\n",
        "    print(len(df[feature].unique()))"
      ],
      "execution_count": 5,
      "outputs": [
        {
          "output_type": "stream",
          "text": [
            "feature1\n",
            "2\n",
            "feature2\n",
            "1\n",
            "feature3\n",
            "219\n",
            "feature4\n",
            "269\n",
            "feature5\n",
            "204\n",
            "feature6\n",
            "259\n",
            "feature7\n",
            "231\n",
            "feature8\n",
            "260\n",
            "feature9\n",
            "244\n",
            "feature10\n",
            "267\n",
            "feature11\n",
            "246\n",
            "feature12\n",
            "269\n",
            "feature13\n",
            "238\n",
            "feature14\n",
            "266\n",
            "feature15\n",
            "234\n",
            "feature16\n",
            "270\n",
            "feature17\n",
            "254\n",
            "feature18\n",
            "280\n",
            "feature19\n",
            "254\n",
            "feature20\n",
            "266\n",
            "feature21\n",
            "248\n",
            "feature22\n",
            "265\n",
            "feature23\n",
            "248\n",
            "feature24\n",
            "264\n",
            "feature25\n",
            "256\n",
            "feature26\n",
            "273\n",
            "feature27\n",
            "256\n",
            "feature28\n",
            "281\n",
            "feature29\n",
            "244\n",
            "feature30\n",
            "266\n",
            "feature31\n",
            "243\n",
            "feature32\n",
            "263\n",
            "feature33\n",
            "245\n",
            "feature34\n",
            "263\n",
            "label\n",
            "2\n"
          ],
          "name": "stdout"
        }
      ]
    },
    {
      "cell_type": "code",
      "metadata": {
        "colab": {
          "base_uri": "https://localhost:8080/"
        },
        "id": "reuZiNRWyYuL",
        "outputId": "9f79165a-bb67-4352-ed00-349ec17bf15e"
      },
      "source": [
        "df['feature2'].unique()\n"
      ],
      "execution_count": 6,
      "outputs": [
        {
          "output_type": "execute_result",
          "data": {
            "text/plain": [
              "array([0])"
            ]
          },
          "metadata": {
            "tags": []
          },
          "execution_count": 6
        }
      ]
    },
    {
      "cell_type": "code",
      "metadata": {
        "id": "Xylm2dC8ykqo"
      },
      "source": [
        "\n",
        "df.drop(df.columns[1], inplace=True, axis=1)"
      ],
      "execution_count": 7,
      "outputs": []
    },
    {
      "cell_type": "code",
      "metadata": {
        "colab": {
          "base_uri": "https://localhost:8080/",
          "height": 224
        },
        "id": "AOqG6fHryp5W",
        "outputId": "b8fd277d-8e50-4a21-9f5a-0a963b55a312"
      },
      "source": [
        "df.head()"
      ],
      "execution_count": 8,
      "outputs": [
        {
          "output_type": "execute_result",
          "data": {
            "text/html": [
              "<div>\n",
              "<style scoped>\n",
              "    .dataframe tbody tr th:only-of-type {\n",
              "        vertical-align: middle;\n",
              "    }\n",
              "\n",
              "    .dataframe tbody tr th {\n",
              "        vertical-align: top;\n",
              "    }\n",
              "\n",
              "    .dataframe thead th {\n",
              "        text-align: right;\n",
              "    }\n",
              "</style>\n",
              "<table border=\"1\" class=\"dataframe\">\n",
              "  <thead>\n",
              "    <tr style=\"text-align: right;\">\n",
              "      <th></th>\n",
              "      <th>feature1</th>\n",
              "      <th>feature3</th>\n",
              "      <th>feature4</th>\n",
              "      <th>feature5</th>\n",
              "      <th>feature6</th>\n",
              "      <th>feature7</th>\n",
              "      <th>feature8</th>\n",
              "      <th>feature9</th>\n",
              "      <th>feature10</th>\n",
              "      <th>feature11</th>\n",
              "      <th>feature12</th>\n",
              "      <th>feature13</th>\n",
              "      <th>feature14</th>\n",
              "      <th>feature15</th>\n",
              "      <th>feature16</th>\n",
              "      <th>feature17</th>\n",
              "      <th>feature18</th>\n",
              "      <th>feature19</th>\n",
              "      <th>feature20</th>\n",
              "      <th>feature21</th>\n",
              "      <th>feature22</th>\n",
              "      <th>feature23</th>\n",
              "      <th>feature24</th>\n",
              "      <th>feature25</th>\n",
              "      <th>feature26</th>\n",
              "      <th>feature27</th>\n",
              "      <th>feature28</th>\n",
              "      <th>feature29</th>\n",
              "      <th>feature30</th>\n",
              "      <th>feature31</th>\n",
              "      <th>feature32</th>\n",
              "      <th>feature33</th>\n",
              "      <th>feature34</th>\n",
              "      <th>label</th>\n",
              "    </tr>\n",
              "  </thead>\n",
              "  <tbody>\n",
              "    <tr>\n",
              "      <th>0</th>\n",
              "      <td>1</td>\n",
              "      <td>0.99539</td>\n",
              "      <td>-0.05889</td>\n",
              "      <td>0.85243</td>\n",
              "      <td>0.02306</td>\n",
              "      <td>0.83398</td>\n",
              "      <td>-0.37708</td>\n",
              "      <td>1.00000</td>\n",
              "      <td>0.03760</td>\n",
              "      <td>0.85243</td>\n",
              "      <td>-0.17755</td>\n",
              "      <td>0.59755</td>\n",
              "      <td>-0.44945</td>\n",
              "      <td>0.60536</td>\n",
              "      <td>-0.38223</td>\n",
              "      <td>0.84356</td>\n",
              "      <td>-0.38542</td>\n",
              "      <td>0.58212</td>\n",
              "      <td>-0.32192</td>\n",
              "      <td>0.56971</td>\n",
              "      <td>-0.29674</td>\n",
              "      <td>0.36946</td>\n",
              "      <td>-0.47357</td>\n",
              "      <td>0.56811</td>\n",
              "      <td>-0.51171</td>\n",
              "      <td>0.41078</td>\n",
              "      <td>-0.46168</td>\n",
              "      <td>0.21266</td>\n",
              "      <td>-0.34090</td>\n",
              "      <td>0.42267</td>\n",
              "      <td>-0.54487</td>\n",
              "      <td>0.18641</td>\n",
              "      <td>-0.45300</td>\n",
              "      <td>g</td>\n",
              "    </tr>\n",
              "    <tr>\n",
              "      <th>1</th>\n",
              "      <td>1</td>\n",
              "      <td>1.00000</td>\n",
              "      <td>-0.18829</td>\n",
              "      <td>0.93035</td>\n",
              "      <td>-0.36156</td>\n",
              "      <td>-0.10868</td>\n",
              "      <td>-0.93597</td>\n",
              "      <td>1.00000</td>\n",
              "      <td>-0.04549</td>\n",
              "      <td>0.50874</td>\n",
              "      <td>-0.67743</td>\n",
              "      <td>0.34432</td>\n",
              "      <td>-0.69707</td>\n",
              "      <td>-0.51685</td>\n",
              "      <td>-0.97515</td>\n",
              "      <td>0.05499</td>\n",
              "      <td>-0.62237</td>\n",
              "      <td>0.33109</td>\n",
              "      <td>-1.00000</td>\n",
              "      <td>-0.13151</td>\n",
              "      <td>-0.45300</td>\n",
              "      <td>-0.18056</td>\n",
              "      <td>-0.35734</td>\n",
              "      <td>-0.20332</td>\n",
              "      <td>-0.26569</td>\n",
              "      <td>-0.20468</td>\n",
              "      <td>-0.18401</td>\n",
              "      <td>-0.19040</td>\n",
              "      <td>-0.11593</td>\n",
              "      <td>-0.16626</td>\n",
              "      <td>-0.06288</td>\n",
              "      <td>-0.13738</td>\n",
              "      <td>-0.02447</td>\n",
              "      <td>b</td>\n",
              "    </tr>\n",
              "    <tr>\n",
              "      <th>2</th>\n",
              "      <td>1</td>\n",
              "      <td>1.00000</td>\n",
              "      <td>-0.03365</td>\n",
              "      <td>1.00000</td>\n",
              "      <td>0.00485</td>\n",
              "      <td>1.00000</td>\n",
              "      <td>-0.12062</td>\n",
              "      <td>0.88965</td>\n",
              "      <td>0.01198</td>\n",
              "      <td>0.73082</td>\n",
              "      <td>0.05346</td>\n",
              "      <td>0.85443</td>\n",
              "      <td>0.00827</td>\n",
              "      <td>0.54591</td>\n",
              "      <td>0.00299</td>\n",
              "      <td>0.83775</td>\n",
              "      <td>-0.13644</td>\n",
              "      <td>0.75535</td>\n",
              "      <td>-0.08540</td>\n",
              "      <td>0.70887</td>\n",
              "      <td>-0.27502</td>\n",
              "      <td>0.43385</td>\n",
              "      <td>-0.12062</td>\n",
              "      <td>0.57528</td>\n",
              "      <td>-0.40220</td>\n",
              "      <td>0.58984</td>\n",
              "      <td>-0.22145</td>\n",
              "      <td>0.43100</td>\n",
              "      <td>-0.17365</td>\n",
              "      <td>0.60436</td>\n",
              "      <td>-0.24180</td>\n",
              "      <td>0.56045</td>\n",
              "      <td>-0.38238</td>\n",
              "      <td>g</td>\n",
              "    </tr>\n",
              "    <tr>\n",
              "      <th>3</th>\n",
              "      <td>1</td>\n",
              "      <td>1.00000</td>\n",
              "      <td>-0.45161</td>\n",
              "      <td>1.00000</td>\n",
              "      <td>1.00000</td>\n",
              "      <td>0.71216</td>\n",
              "      <td>-1.00000</td>\n",
              "      <td>0.00000</td>\n",
              "      <td>0.00000</td>\n",
              "      <td>0.00000</td>\n",
              "      <td>0.00000</td>\n",
              "      <td>0.00000</td>\n",
              "      <td>0.00000</td>\n",
              "      <td>-1.00000</td>\n",
              "      <td>0.14516</td>\n",
              "      <td>0.54094</td>\n",
              "      <td>-0.39330</td>\n",
              "      <td>-1.00000</td>\n",
              "      <td>-0.54467</td>\n",
              "      <td>-0.69975</td>\n",
              "      <td>1.00000</td>\n",
              "      <td>0.00000</td>\n",
              "      <td>0.00000</td>\n",
              "      <td>1.00000</td>\n",
              "      <td>0.90695</td>\n",
              "      <td>0.51613</td>\n",
              "      <td>1.00000</td>\n",
              "      <td>1.00000</td>\n",
              "      <td>-0.20099</td>\n",
              "      <td>0.25682</td>\n",
              "      <td>1.00000</td>\n",
              "      <td>-0.32382</td>\n",
              "      <td>1.00000</td>\n",
              "      <td>b</td>\n",
              "    </tr>\n",
              "    <tr>\n",
              "      <th>4</th>\n",
              "      <td>1</td>\n",
              "      <td>1.00000</td>\n",
              "      <td>-0.02401</td>\n",
              "      <td>0.94140</td>\n",
              "      <td>0.06531</td>\n",
              "      <td>0.92106</td>\n",
              "      <td>-0.23255</td>\n",
              "      <td>0.77152</td>\n",
              "      <td>-0.16399</td>\n",
              "      <td>0.52798</td>\n",
              "      <td>-0.20275</td>\n",
              "      <td>0.56409</td>\n",
              "      <td>-0.00712</td>\n",
              "      <td>0.34395</td>\n",
              "      <td>-0.27457</td>\n",
              "      <td>0.52940</td>\n",
              "      <td>-0.21780</td>\n",
              "      <td>0.45107</td>\n",
              "      <td>-0.17813</td>\n",
              "      <td>0.05982</td>\n",
              "      <td>-0.35575</td>\n",
              "      <td>0.02309</td>\n",
              "      <td>-0.52879</td>\n",
              "      <td>0.03286</td>\n",
              "      <td>-0.65158</td>\n",
              "      <td>0.13290</td>\n",
              "      <td>-0.53206</td>\n",
              "      <td>0.02431</td>\n",
              "      <td>-0.62197</td>\n",
              "      <td>-0.05707</td>\n",
              "      <td>-0.59573</td>\n",
              "      <td>-0.04608</td>\n",
              "      <td>-0.65697</td>\n",
              "      <td>g</td>\n",
              "    </tr>\n",
              "  </tbody>\n",
              "</table>\n",
              "</div>"
            ],
            "text/plain": [
              "   feature1  feature3  feature4  ...  feature33  feature34  label\n",
              "0         1   0.99539  -0.05889  ...    0.18641   -0.45300      g\n",
              "1         1   1.00000  -0.18829  ...   -0.13738   -0.02447      b\n",
              "2         1   1.00000  -0.03365  ...    0.56045   -0.38238      g\n",
              "3         1   1.00000  -0.45161  ...   -0.32382    1.00000      b\n",
              "4         1   1.00000  -0.02401  ...   -0.04608   -0.65697      g\n",
              "\n",
              "[5 rows x 34 columns]"
            ]
          },
          "metadata": {
            "tags": []
          },
          "execution_count": 8
        }
      ]
    },
    {
      "cell_type": "code",
      "metadata": {
        "colab": {
          "base_uri": "https://localhost:8080/"
        },
        "id": "rxhgASnWyzl5",
        "outputId": "4b33401e-09a5-4560-8194-e3c43a0f131f"
      },
      "source": [
        "df.info()"
      ],
      "execution_count": 9,
      "outputs": [
        {
          "output_type": "stream",
          "text": [
            "<class 'pandas.core.frame.DataFrame'>\n",
            "RangeIndex: 351 entries, 0 to 350\n",
            "Data columns (total 34 columns):\n",
            " #   Column     Non-Null Count  Dtype  \n",
            "---  ------     --------------  -----  \n",
            " 0   feature1   351 non-null    int64  \n",
            " 1   feature3   351 non-null    float64\n",
            " 2   feature4   351 non-null    float64\n",
            " 3   feature5   351 non-null    float64\n",
            " 4   feature6   351 non-null    float64\n",
            " 5   feature7   351 non-null    float64\n",
            " 6   feature8   351 non-null    float64\n",
            " 7   feature9   351 non-null    float64\n",
            " 8   feature10  351 non-null    float64\n",
            " 9   feature11  351 non-null    float64\n",
            " 10  feature12  351 non-null    float64\n",
            " 11  feature13  351 non-null    float64\n",
            " 12  feature14  351 non-null    float64\n",
            " 13  feature15  351 non-null    float64\n",
            " 14  feature16  351 non-null    float64\n",
            " 15  feature17  351 non-null    float64\n",
            " 16  feature18  351 non-null    float64\n",
            " 17  feature19  351 non-null    float64\n",
            " 18  feature20  351 non-null    float64\n",
            " 19  feature21  351 non-null    float64\n",
            " 20  feature22  351 non-null    float64\n",
            " 21  feature23  351 non-null    float64\n",
            " 22  feature24  351 non-null    float64\n",
            " 23  feature25  351 non-null    float64\n",
            " 24  feature26  351 non-null    float64\n",
            " 25  feature27  351 non-null    float64\n",
            " 26  feature28  351 non-null    float64\n",
            " 27  feature29  351 non-null    float64\n",
            " 28  feature30  351 non-null    float64\n",
            " 29  feature31  351 non-null    float64\n",
            " 30  feature32  351 non-null    float64\n",
            " 31  feature33  351 non-null    float64\n",
            " 32  feature34  351 non-null    float64\n",
            " 33  label      351 non-null    object \n",
            "dtypes: float64(32), int64(1), object(1)\n",
            "memory usage: 93.4+ KB\n"
          ],
          "name": "stdout"
        }
      ]
    },
    {
      "cell_type": "code",
      "metadata": {
        "colab": {
          "base_uri": "https://localhost:8080/",
          "height": 317
        },
        "id": "ryg8Jd9Wy6ld",
        "outputId": "21716a2e-39a4-4aa4-be0d-e40d2114a703"
      },
      "source": [
        "df.describe()"
      ],
      "execution_count": 10,
      "outputs": [
        {
          "output_type": "execute_result",
          "data": {
            "text/html": [
              "<div>\n",
              "<style scoped>\n",
              "    .dataframe tbody tr th:only-of-type {\n",
              "        vertical-align: middle;\n",
              "    }\n",
              "\n",
              "    .dataframe tbody tr th {\n",
              "        vertical-align: top;\n",
              "    }\n",
              "\n",
              "    .dataframe thead th {\n",
              "        text-align: right;\n",
              "    }\n",
              "</style>\n",
              "<table border=\"1\" class=\"dataframe\">\n",
              "  <thead>\n",
              "    <tr style=\"text-align: right;\">\n",
              "      <th></th>\n",
              "      <th>feature1</th>\n",
              "      <th>feature3</th>\n",
              "      <th>feature4</th>\n",
              "      <th>feature5</th>\n",
              "      <th>feature6</th>\n",
              "      <th>feature7</th>\n",
              "      <th>feature8</th>\n",
              "      <th>feature9</th>\n",
              "      <th>feature10</th>\n",
              "      <th>feature11</th>\n",
              "      <th>feature12</th>\n",
              "      <th>feature13</th>\n",
              "      <th>feature14</th>\n",
              "      <th>feature15</th>\n",
              "      <th>feature16</th>\n",
              "      <th>feature17</th>\n",
              "      <th>feature18</th>\n",
              "      <th>feature19</th>\n",
              "      <th>feature20</th>\n",
              "      <th>feature21</th>\n",
              "      <th>feature22</th>\n",
              "      <th>feature23</th>\n",
              "      <th>feature24</th>\n",
              "      <th>feature25</th>\n",
              "      <th>feature26</th>\n",
              "      <th>feature27</th>\n",
              "      <th>feature28</th>\n",
              "      <th>feature29</th>\n",
              "      <th>feature30</th>\n",
              "      <th>feature31</th>\n",
              "      <th>feature32</th>\n",
              "      <th>feature33</th>\n",
              "      <th>feature34</th>\n",
              "    </tr>\n",
              "  </thead>\n",
              "  <tbody>\n",
              "    <tr>\n",
              "      <th>count</th>\n",
              "      <td>351.000000</td>\n",
              "      <td>351.000000</td>\n",
              "      <td>351.000000</td>\n",
              "      <td>351.000000</td>\n",
              "      <td>351.000000</td>\n",
              "      <td>351.000000</td>\n",
              "      <td>351.000000</td>\n",
              "      <td>351.000000</td>\n",
              "      <td>351.000000</td>\n",
              "      <td>351.000000</td>\n",
              "      <td>351.000000</td>\n",
              "      <td>351.000000</td>\n",
              "      <td>351.000000</td>\n",
              "      <td>351.000000</td>\n",
              "      <td>351.000000</td>\n",
              "      <td>351.000000</td>\n",
              "      <td>351.000000</td>\n",
              "      <td>351.000000</td>\n",
              "      <td>351.000000</td>\n",
              "      <td>351.000000</td>\n",
              "      <td>351.000000</td>\n",
              "      <td>351.000000</td>\n",
              "      <td>351.000000</td>\n",
              "      <td>351.000000</td>\n",
              "      <td>351.000000</td>\n",
              "      <td>351.000000</td>\n",
              "      <td>351.000000</td>\n",
              "      <td>351.000000</td>\n",
              "      <td>351.000000</td>\n",
              "      <td>351.000000</td>\n",
              "      <td>351.000000</td>\n",
              "      <td>351.000000</td>\n",
              "      <td>351.000000</td>\n",
              "    </tr>\n",
              "    <tr>\n",
              "      <th>mean</th>\n",
              "      <td>0.891738</td>\n",
              "      <td>0.641342</td>\n",
              "      <td>0.044372</td>\n",
              "      <td>0.601068</td>\n",
              "      <td>0.115889</td>\n",
              "      <td>0.550095</td>\n",
              "      <td>0.119360</td>\n",
              "      <td>0.511848</td>\n",
              "      <td>0.181345</td>\n",
              "      <td>0.476183</td>\n",
              "      <td>0.155040</td>\n",
              "      <td>0.400801</td>\n",
              "      <td>0.093414</td>\n",
              "      <td>0.344159</td>\n",
              "      <td>0.071132</td>\n",
              "      <td>0.381949</td>\n",
              "      <td>-0.003617</td>\n",
              "      <td>0.359390</td>\n",
              "      <td>-0.024025</td>\n",
              "      <td>0.336695</td>\n",
              "      <td>0.008296</td>\n",
              "      <td>0.362475</td>\n",
              "      <td>-0.057406</td>\n",
              "      <td>0.396135</td>\n",
              "      <td>-0.071187</td>\n",
              "      <td>0.541641</td>\n",
              "      <td>-0.069538</td>\n",
              "      <td>0.378445</td>\n",
              "      <td>-0.027907</td>\n",
              "      <td>0.352514</td>\n",
              "      <td>-0.003794</td>\n",
              "      <td>0.349364</td>\n",
              "      <td>0.014480</td>\n",
              "    </tr>\n",
              "    <tr>\n",
              "      <th>std</th>\n",
              "      <td>0.311155</td>\n",
              "      <td>0.497708</td>\n",
              "      <td>0.441435</td>\n",
              "      <td>0.519862</td>\n",
              "      <td>0.460810</td>\n",
              "      <td>0.492654</td>\n",
              "      <td>0.520750</td>\n",
              "      <td>0.507066</td>\n",
              "      <td>0.483851</td>\n",
              "      <td>0.563496</td>\n",
              "      <td>0.494817</td>\n",
              "      <td>0.622186</td>\n",
              "      <td>0.494873</td>\n",
              "      <td>0.652828</td>\n",
              "      <td>0.458371</td>\n",
              "      <td>0.618020</td>\n",
              "      <td>0.496762</td>\n",
              "      <td>0.626267</td>\n",
              "      <td>0.519076</td>\n",
              "      <td>0.609828</td>\n",
              "      <td>0.518166</td>\n",
              "      <td>0.603767</td>\n",
              "      <td>0.527456</td>\n",
              "      <td>0.578451</td>\n",
              "      <td>0.508495</td>\n",
              "      <td>0.516205</td>\n",
              "      <td>0.550025</td>\n",
              "      <td>0.575886</td>\n",
              "      <td>0.507974</td>\n",
              "      <td>0.571483</td>\n",
              "      <td>0.513574</td>\n",
              "      <td>0.522663</td>\n",
              "      <td>0.468337</td>\n",
              "    </tr>\n",
              "    <tr>\n",
              "      <th>min</th>\n",
              "      <td>0.000000</td>\n",
              "      <td>-1.000000</td>\n",
              "      <td>-1.000000</td>\n",
              "      <td>-1.000000</td>\n",
              "      <td>-1.000000</td>\n",
              "      <td>-1.000000</td>\n",
              "      <td>-1.000000</td>\n",
              "      <td>-1.000000</td>\n",
              "      <td>-1.000000</td>\n",
              "      <td>-1.000000</td>\n",
              "      <td>-1.000000</td>\n",
              "      <td>-1.000000</td>\n",
              "      <td>-1.000000</td>\n",
              "      <td>-1.000000</td>\n",
              "      <td>-1.000000</td>\n",
              "      <td>-1.000000</td>\n",
              "      <td>-1.000000</td>\n",
              "      <td>-1.000000</td>\n",
              "      <td>-1.000000</td>\n",
              "      <td>-1.000000</td>\n",
              "      <td>-1.000000</td>\n",
              "      <td>-1.000000</td>\n",
              "      <td>-1.000000</td>\n",
              "      <td>-1.000000</td>\n",
              "      <td>-1.000000</td>\n",
              "      <td>-1.000000</td>\n",
              "      <td>-1.000000</td>\n",
              "      <td>-1.000000</td>\n",
              "      <td>-1.000000</td>\n",
              "      <td>-1.000000</td>\n",
              "      <td>-1.000000</td>\n",
              "      <td>-1.000000</td>\n",
              "      <td>-1.000000</td>\n",
              "    </tr>\n",
              "    <tr>\n",
              "      <th>25%</th>\n",
              "      <td>1.000000</td>\n",
              "      <td>0.472135</td>\n",
              "      <td>-0.064735</td>\n",
              "      <td>0.412660</td>\n",
              "      <td>-0.024795</td>\n",
              "      <td>0.211310</td>\n",
              "      <td>-0.054840</td>\n",
              "      <td>0.087110</td>\n",
              "      <td>-0.048075</td>\n",
              "      <td>0.021120</td>\n",
              "      <td>-0.065265</td>\n",
              "      <td>0.000000</td>\n",
              "      <td>-0.073725</td>\n",
              "      <td>0.000000</td>\n",
              "      <td>-0.081705</td>\n",
              "      <td>0.000000</td>\n",
              "      <td>-0.225690</td>\n",
              "      <td>0.000000</td>\n",
              "      <td>-0.234670</td>\n",
              "      <td>0.000000</td>\n",
              "      <td>-0.243870</td>\n",
              "      <td>0.000000</td>\n",
              "      <td>-0.366885</td>\n",
              "      <td>0.000000</td>\n",
              "      <td>-0.332390</td>\n",
              "      <td>0.286435</td>\n",
              "      <td>-0.443165</td>\n",
              "      <td>0.000000</td>\n",
              "      <td>-0.236885</td>\n",
              "      <td>0.000000</td>\n",
              "      <td>-0.242595</td>\n",
              "      <td>0.000000</td>\n",
              "      <td>-0.165350</td>\n",
              "    </tr>\n",
              "    <tr>\n",
              "      <th>50%</th>\n",
              "      <td>1.000000</td>\n",
              "      <td>0.871110</td>\n",
              "      <td>0.016310</td>\n",
              "      <td>0.809200</td>\n",
              "      <td>0.022800</td>\n",
              "      <td>0.728730</td>\n",
              "      <td>0.014710</td>\n",
              "      <td>0.684210</td>\n",
              "      <td>0.018290</td>\n",
              "      <td>0.667980</td>\n",
              "      <td>0.028250</td>\n",
              "      <td>0.644070</td>\n",
              "      <td>0.030270</td>\n",
              "      <td>0.601940</td>\n",
              "      <td>0.000000</td>\n",
              "      <td>0.590910</td>\n",
              "      <td>0.000000</td>\n",
              "      <td>0.576190</td>\n",
              "      <td>0.000000</td>\n",
              "      <td>0.499090</td>\n",
              "      <td>0.000000</td>\n",
              "      <td>0.531760</td>\n",
              "      <td>0.000000</td>\n",
              "      <td>0.553890</td>\n",
              "      <td>-0.015050</td>\n",
              "      <td>0.708240</td>\n",
              "      <td>-0.017690</td>\n",
              "      <td>0.496640</td>\n",
              "      <td>0.000000</td>\n",
              "      <td>0.442770</td>\n",
              "      <td>0.000000</td>\n",
              "      <td>0.409560</td>\n",
              "      <td>0.000000</td>\n",
              "    </tr>\n",
              "    <tr>\n",
              "      <th>75%</th>\n",
              "      <td>1.000000</td>\n",
              "      <td>1.000000</td>\n",
              "      <td>0.194185</td>\n",
              "      <td>1.000000</td>\n",
              "      <td>0.334655</td>\n",
              "      <td>0.969240</td>\n",
              "      <td>0.445675</td>\n",
              "      <td>0.953240</td>\n",
              "      <td>0.534195</td>\n",
              "      <td>0.957895</td>\n",
              "      <td>0.482375</td>\n",
              "      <td>0.955505</td>\n",
              "      <td>0.374860</td>\n",
              "      <td>0.919330</td>\n",
              "      <td>0.308975</td>\n",
              "      <td>0.935705</td>\n",
              "      <td>0.195285</td>\n",
              "      <td>0.899265</td>\n",
              "      <td>0.134370</td>\n",
              "      <td>0.894865</td>\n",
              "      <td>0.188760</td>\n",
              "      <td>0.911235</td>\n",
              "      <td>0.164630</td>\n",
              "      <td>0.905240</td>\n",
              "      <td>0.156765</td>\n",
              "      <td>0.999945</td>\n",
              "      <td>0.153535</td>\n",
              "      <td>0.883465</td>\n",
              "      <td>0.154075</td>\n",
              "      <td>0.857620</td>\n",
              "      <td>0.200120</td>\n",
              "      <td>0.813765</td>\n",
              "      <td>0.171660</td>\n",
              "    </tr>\n",
              "    <tr>\n",
              "      <th>max</th>\n",
              "      <td>1.000000</td>\n",
              "      <td>1.000000</td>\n",
              "      <td>1.000000</td>\n",
              "      <td>1.000000</td>\n",
              "      <td>1.000000</td>\n",
              "      <td>1.000000</td>\n",
              "      <td>1.000000</td>\n",
              "      <td>1.000000</td>\n",
              "      <td>1.000000</td>\n",
              "      <td>1.000000</td>\n",
              "      <td>1.000000</td>\n",
              "      <td>1.000000</td>\n",
              "      <td>1.000000</td>\n",
              "      <td>1.000000</td>\n",
              "      <td>1.000000</td>\n",
              "      <td>1.000000</td>\n",
              "      <td>1.000000</td>\n",
              "      <td>1.000000</td>\n",
              "      <td>1.000000</td>\n",
              "      <td>1.000000</td>\n",
              "      <td>1.000000</td>\n",
              "      <td>1.000000</td>\n",
              "      <td>1.000000</td>\n",
              "      <td>1.000000</td>\n",
              "      <td>1.000000</td>\n",
              "      <td>1.000000</td>\n",
              "      <td>1.000000</td>\n",
              "      <td>1.000000</td>\n",
              "      <td>1.000000</td>\n",
              "      <td>1.000000</td>\n",
              "      <td>1.000000</td>\n",
              "      <td>1.000000</td>\n",
              "      <td>1.000000</td>\n",
              "    </tr>\n",
              "  </tbody>\n",
              "</table>\n",
              "</div>"
            ],
            "text/plain": [
              "         feature1    feature3    feature4  ...   feature32   feature33   feature34\n",
              "count  351.000000  351.000000  351.000000  ...  351.000000  351.000000  351.000000\n",
              "mean     0.891738    0.641342    0.044372  ...   -0.003794    0.349364    0.014480\n",
              "std      0.311155    0.497708    0.441435  ...    0.513574    0.522663    0.468337\n",
              "min      0.000000   -1.000000   -1.000000  ...   -1.000000   -1.000000   -1.000000\n",
              "25%      1.000000    0.472135   -0.064735  ...   -0.242595    0.000000   -0.165350\n",
              "50%      1.000000    0.871110    0.016310  ...    0.000000    0.409560    0.000000\n",
              "75%      1.000000    1.000000    0.194185  ...    0.200120    0.813765    0.171660\n",
              "max      1.000000    1.000000    1.000000  ...    1.000000    1.000000    1.000000\n",
              "\n",
              "[8 rows x 33 columns]"
            ]
          },
          "metadata": {
            "tags": []
          },
          "execution_count": 10
        }
      ]
    },
    {
      "cell_type": "code",
      "metadata": {
        "colab": {
          "base_uri": "https://localhost:8080/"
        },
        "id": "klwqyUBvzBCE",
        "outputId": "cd498f9c-334f-493a-916c-3d442a961126"
      },
      "source": [
        "df.isnull().sum()"
      ],
      "execution_count": 11,
      "outputs": [
        {
          "output_type": "execute_result",
          "data": {
            "text/plain": [
              "feature1     0\n",
              "feature3     0\n",
              "feature4     0\n",
              "feature5     0\n",
              "feature6     0\n",
              "feature7     0\n",
              "feature8     0\n",
              "feature9     0\n",
              "feature10    0\n",
              "feature11    0\n",
              "feature12    0\n",
              "feature13    0\n",
              "feature14    0\n",
              "feature15    0\n",
              "feature16    0\n",
              "feature17    0\n",
              "feature18    0\n",
              "feature19    0\n",
              "feature20    0\n",
              "feature21    0\n",
              "feature22    0\n",
              "feature23    0\n",
              "feature24    0\n",
              "feature25    0\n",
              "feature26    0\n",
              "feature27    0\n",
              "feature28    0\n",
              "feature29    0\n",
              "feature30    0\n",
              "feature31    0\n",
              "feature32    0\n",
              "feature33    0\n",
              "feature34    0\n",
              "label        0\n",
              "dtype: int64"
            ]
          },
          "metadata": {
            "tags": []
          },
          "execution_count": 11
        }
      ]
    },
    {
      "cell_type": "code",
      "metadata": {
        "colab": {
          "base_uri": "https://localhost:8080/"
        },
        "id": "b0iEOSNSzF8h",
        "outputId": "0653367e-ab3b-42ff-92db-2db64eff6743"
      },
      "source": [
        "df['label'].unique()"
      ],
      "execution_count": 12,
      "outputs": [
        {
          "output_type": "execute_result",
          "data": {
            "text/plain": [
              "array(['g', 'b'], dtype=object)"
            ]
          },
          "metadata": {
            "tags": []
          },
          "execution_count": 12
        }
      ]
    },
    {
      "cell_type": "code",
      "metadata": {
        "id": "l-UL03T8zKcK"
      },
      "source": [
        "df['label'] = [1 if lbl == 'g' else 0 for lbl in df['label']]"
      ],
      "execution_count": 14,
      "outputs": []
    },
    {
      "cell_type": "code",
      "metadata": {
        "colab": {
          "base_uri": "https://localhost:8080/"
        },
        "id": "4Fu5Wb94zQXf",
        "outputId": "dc529960-6114-42d0-91fd-b82ce29d0070"
      },
      "source": [
        "df['label'].unique()"
      ],
      "execution_count": 15,
      "outputs": [
        {
          "output_type": "execute_result",
          "data": {
            "text/plain": [
              "array([0])"
            ]
          },
          "metadata": {
            "tags": []
          },
          "execution_count": 15
        }
      ]
    },
    {
      "cell_type": "code",
      "metadata": {
        "id": "voHpoc0PzVNj"
      },
      "source": [
        "\n",
        "train_data = df.sample(frac= 0.6, random_state=125)\n",
        "test_data = df.drop(train_data.index)"
      ],
      "execution_count": 17,
      "outputs": []
    },
    {
      "cell_type": "code",
      "metadata": {
        "id": "fFAzbuN2zg5j"
      },
      "source": [
        "train_label = train_data.iloc[:,-1]\n",
        "train_data = train_data.iloc[:,0:-1]\n",
        "test_label = test_data.iloc[:,-1]\n",
        "test_data = test_data.iloc[:,0:-1]"
      ],
      "execution_count": 18,
      "outputs": []
    },
    {
      "cell_type": "code",
      "metadata": {
        "colab": {
          "base_uri": "https://localhost:8080/",
          "height": 224
        },
        "id": "Vdsr52frzj2l",
        "outputId": "554b7dc4-2854-43de-b85c-89252a097da4"
      },
      "source": [
        "train_data.head()"
      ],
      "execution_count": 19,
      "outputs": [
        {
          "output_type": "execute_result",
          "data": {
            "text/html": [
              "<div>\n",
              "<style scoped>\n",
              "    .dataframe tbody tr th:only-of-type {\n",
              "        vertical-align: middle;\n",
              "    }\n",
              "\n",
              "    .dataframe tbody tr th {\n",
              "        vertical-align: top;\n",
              "    }\n",
              "\n",
              "    .dataframe thead th {\n",
              "        text-align: right;\n",
              "    }\n",
              "</style>\n",
              "<table border=\"1\" class=\"dataframe\">\n",
              "  <thead>\n",
              "    <tr style=\"text-align: right;\">\n",
              "      <th></th>\n",
              "      <th>feature1</th>\n",
              "      <th>feature3</th>\n",
              "      <th>feature4</th>\n",
              "      <th>feature5</th>\n",
              "      <th>feature6</th>\n",
              "      <th>feature7</th>\n",
              "      <th>feature8</th>\n",
              "      <th>feature9</th>\n",
              "      <th>feature10</th>\n",
              "      <th>feature11</th>\n",
              "      <th>feature12</th>\n",
              "      <th>feature13</th>\n",
              "      <th>feature14</th>\n",
              "      <th>feature15</th>\n",
              "      <th>feature16</th>\n",
              "      <th>feature17</th>\n",
              "      <th>feature18</th>\n",
              "      <th>feature19</th>\n",
              "      <th>feature20</th>\n",
              "      <th>feature21</th>\n",
              "      <th>feature22</th>\n",
              "      <th>feature23</th>\n",
              "      <th>feature24</th>\n",
              "      <th>feature25</th>\n",
              "      <th>feature26</th>\n",
              "      <th>feature27</th>\n",
              "      <th>feature28</th>\n",
              "      <th>feature29</th>\n",
              "      <th>feature30</th>\n",
              "      <th>feature31</th>\n",
              "      <th>feature32</th>\n",
              "      <th>feature33</th>\n",
              "      <th>feature34</th>\n",
              "    </tr>\n",
              "  </thead>\n",
              "  <tbody>\n",
              "    <tr>\n",
              "      <th>270</th>\n",
              "      <td>1</td>\n",
              "      <td>1.00000</td>\n",
              "      <td>0.08013</td>\n",
              "      <td>0.96775</td>\n",
              "      <td>-0.00482</td>\n",
              "      <td>0.96683</td>\n",
              "      <td>-0.00722</td>\n",
              "      <td>0.87980</td>\n",
              "      <td>-0.03923</td>\n",
              "      <td>1.00000</td>\n",
              "      <td>0.01419</td>\n",
              "      <td>0.96186</td>\n",
              "      <td>-0.01436</td>\n",
              "      <td>0.95947</td>\n",
              "      <td>-0.01671</td>\n",
              "      <td>0.98497</td>\n",
              "      <td>0.01002</td>\n",
              "      <td>0.91152</td>\n",
              "      <td>-0.08848</td>\n",
              "      <td>0.95016</td>\n",
              "      <td>-0.02364</td>\n",
              "      <td>0.94636</td>\n",
              "      <td>-0.02591</td>\n",
              "      <td>0.98164</td>\n",
              "      <td>0.02003</td>\n",
              "      <td>0.93772</td>\n",
              "      <td>-0.03034</td>\n",
              "      <td>1.00000</td>\n",
              "      <td>-0.05843</td>\n",
              "      <td>0.92774</td>\n",
              "      <td>-0.03464</td>\n",
              "      <td>0.92226</td>\n",
              "      <td>-0.03673</td>\n",
              "    </tr>\n",
              "    <tr>\n",
              "      <th>116</th>\n",
              "      <td>1</td>\n",
              "      <td>1.00000</td>\n",
              "      <td>-0.14754</td>\n",
              "      <td>1.00000</td>\n",
              "      <td>0.04918</td>\n",
              "      <td>0.57377</td>\n",
              "      <td>-0.01639</td>\n",
              "      <td>0.65574</td>\n",
              "      <td>0.01639</td>\n",
              "      <td>0.85246</td>\n",
              "      <td>-0.03279</td>\n",
              "      <td>0.72131</td>\n",
              "      <td>0.00000</td>\n",
              "      <td>0.68852</td>\n",
              "      <td>-0.16393</td>\n",
              "      <td>0.19672</td>\n",
              "      <td>-0.14754</td>\n",
              "      <td>0.65558</td>\n",
              "      <td>-0.17176</td>\n",
              "      <td>0.67213</td>\n",
              "      <td>0.03279</td>\n",
              "      <td>1.00000</td>\n",
              "      <td>-0.29508</td>\n",
              "      <td>0.31148</td>\n",
              "      <td>-0.34426</td>\n",
              "      <td>0.52385</td>\n",
              "      <td>-0.20325</td>\n",
              "      <td>0.32787</td>\n",
              "      <td>-0.03279</td>\n",
              "      <td>0.27869</td>\n",
              "      <td>-0.44262</td>\n",
              "      <td>0.49180</td>\n",
              "      <td>-0.06557</td>\n",
              "    </tr>\n",
              "    <tr>\n",
              "      <th>135</th>\n",
              "      <td>1</td>\n",
              "      <td>0.89706</td>\n",
              "      <td>0.38235</td>\n",
              "      <td>0.91176</td>\n",
              "      <td>0.37500</td>\n",
              "      <td>0.74265</td>\n",
              "      <td>0.67647</td>\n",
              "      <td>0.45588</td>\n",
              "      <td>0.77941</td>\n",
              "      <td>0.19118</td>\n",
              "      <td>0.88971</td>\n",
              "      <td>-0.02206</td>\n",
              "      <td>0.86029</td>\n",
              "      <td>-0.20588</td>\n",
              "      <td>0.82353</td>\n",
              "      <td>-0.37500</td>\n",
              "      <td>0.67647</td>\n",
              "      <td>-0.50000</td>\n",
              "      <td>0.47794</td>\n",
              "      <td>-0.73529</td>\n",
              "      <td>0.38235</td>\n",
              "      <td>-0.86029</td>\n",
              "      <td>0.08824</td>\n",
              "      <td>-0.74265</td>\n",
              "      <td>-0.12500</td>\n",
              "      <td>-0.67925</td>\n",
              "      <td>-0.24131</td>\n",
              "      <td>-0.55147</td>\n",
              "      <td>-0.42647</td>\n",
              "      <td>-0.44118</td>\n",
              "      <td>-0.50735</td>\n",
              "      <td>-0.28676</td>\n",
              "      <td>-0.56618</td>\n",
              "    </tr>\n",
              "    <tr>\n",
              "      <th>91</th>\n",
              "      <td>1</td>\n",
              "      <td>0.84557</td>\n",
              "      <td>-0.08580</td>\n",
              "      <td>-0.31745</td>\n",
              "      <td>-0.80553</td>\n",
              "      <td>-0.08961</td>\n",
              "      <td>-0.56435</td>\n",
              "      <td>0.80648</td>\n",
              "      <td>0.04576</td>\n",
              "      <td>0.89514</td>\n",
              "      <td>-0.00763</td>\n",
              "      <td>-0.18494</td>\n",
              "      <td>0.63966</td>\n",
              "      <td>-0.20019</td>\n",
              "      <td>-0.68065</td>\n",
              "      <td>0.85701</td>\n",
              "      <td>-0.11344</td>\n",
              "      <td>0.77979</td>\n",
              "      <td>-0.15729</td>\n",
              "      <td>-0.06959</td>\n",
              "      <td>0.50810</td>\n",
              "      <td>-0.34128</td>\n",
              "      <td>0.80934</td>\n",
              "      <td>0.78932</td>\n",
              "      <td>-0.03718</td>\n",
              "      <td>0.70882</td>\n",
              "      <td>-0.25288</td>\n",
              "      <td>0.77884</td>\n",
              "      <td>-0.14109</td>\n",
              "      <td>-0.21354</td>\n",
              "      <td>-0.78170</td>\n",
              "      <td>-0.18494</td>\n",
              "      <td>-0.59867</td>\n",
              "    </tr>\n",
              "    <tr>\n",
              "      <th>100</th>\n",
              "      <td>1</td>\n",
              "      <td>1.00000</td>\n",
              "      <td>-1.00000</td>\n",
              "      <td>0.00000</td>\n",
              "      <td>0.00000</td>\n",
              "      <td>0.77941</td>\n",
              "      <td>-0.99265</td>\n",
              "      <td>0.80882</td>\n",
              "      <td>0.55147</td>\n",
              "      <td>-0.41912</td>\n",
              "      <td>-0.94853</td>\n",
              "      <td>0.00000</td>\n",
              "      <td>0.00000</td>\n",
              "      <td>0.00000</td>\n",
              "      <td>0.00000</td>\n",
              "      <td>0.72059</td>\n",
              "      <td>-0.77206</td>\n",
              "      <td>0.73529</td>\n",
              "      <td>-0.60294</td>\n",
              "      <td>0.00000</td>\n",
              "      <td>0.00000</td>\n",
              "      <td>0.18382</td>\n",
              "      <td>-1.00000</td>\n",
              "      <td>-1.00000</td>\n",
              "      <td>-1.00000</td>\n",
              "      <td>-1.00000</td>\n",
              "      <td>-1.00000</td>\n",
              "      <td>1.00000</td>\n",
              "      <td>-1.00000</td>\n",
              "      <td>1.00000</td>\n",
              "      <td>-1.00000</td>\n",
              "      <td>0.00000</td>\n",
              "      <td>0.00000</td>\n",
              "    </tr>\n",
              "  </tbody>\n",
              "</table>\n",
              "</div>"
            ],
            "text/plain": [
              "     feature1  feature3  feature4  ...  feature32  feature33  feature34\n",
              "270         1   1.00000   0.08013  ...   -0.03464    0.92226   -0.03673\n",
              "116         1   1.00000  -0.14754  ...   -0.44262    0.49180   -0.06557\n",
              "135         1   0.89706   0.38235  ...   -0.50735   -0.28676   -0.56618\n",
              "91          1   0.84557  -0.08580  ...   -0.78170   -0.18494   -0.59867\n",
              "100         1   1.00000  -1.00000  ...   -1.00000    0.00000    0.00000\n",
              "\n",
              "[5 rows x 33 columns]"
            ]
          },
          "metadata": {
            "tags": []
          },
          "execution_count": 19
        }
      ]
    },
    {
      "cell_type": "code",
      "metadata": {
        "colab": {
          "base_uri": "https://localhost:8080/"
        },
        "id": "cJ9mB8WdzqSb",
        "outputId": "55d128ac-ed42-4605-8662-b5bd1514ebaf"
      },
      "source": [
        "train_label.head()"
      ],
      "execution_count": 20,
      "outputs": [
        {
          "output_type": "execute_result",
          "data": {
            "text/plain": [
              "270    0\n",
              "116    0\n",
              "135    0\n",
              "91     0\n",
              "100    0\n",
              "Name: label, dtype: int64"
            ]
          },
          "metadata": {
            "tags": []
          },
          "execution_count": 20
        }
      ]
    },
    {
      "cell_type": "code",
      "metadata": {
        "colab": {
          "base_uri": "https://localhost:8080/"
        },
        "id": "Oag1VC50zwNW",
        "outputId": "66181ad4-3d2a-4101-cfb0-d5654ac52823"
      },
      "source": [
        "train_data.shape"
      ],
      "execution_count": 21,
      "outputs": [
        {
          "output_type": "execute_result",
          "data": {
            "text/plain": [
              "(211, 33)"
            ]
          },
          "metadata": {
            "tags": []
          },
          "execution_count": 21
        }
      ]
    },
    {
      "cell_type": "code",
      "metadata": {
        "colab": {
          "base_uri": "https://localhost:8080/"
        },
        "id": "DX9XR09Bz0Ae",
        "outputId": "0b4d4813-bbc7-40a6-c6e6-6e63a7515c1a"
      },
      "source": [
        "test_data.shape"
      ],
      "execution_count": 22,
      "outputs": [
        {
          "output_type": "execute_result",
          "data": {
            "text/plain": [
              "(140, 33)"
            ]
          },
          "metadata": {
            "tags": []
          },
          "execution_count": 22
        }
      ]
    },
    {
      "cell_type": "code",
      "metadata": {
        "colab": {
          "base_uri": "https://localhost:8080/"
        },
        "id": "4ZkH6Mt-z3uN",
        "outputId": "ea53be7d-e7db-469d-b3e8-45cef4e490fd"
      },
      "source": [
        "train_label.shape"
      ],
      "execution_count": 23,
      "outputs": [
        {
          "output_type": "execute_result",
          "data": {
            "text/plain": [
              "(211,)"
            ]
          },
          "metadata": {
            "tags": []
          },
          "execution_count": 23
        }
      ]
    },
    {
      "cell_type": "code",
      "metadata": {
        "colab": {
          "base_uri": "https://localhost:8080/"
        },
        "id": "jvo4inTkz6_W",
        "outputId": "0e38157b-fe09-4ece-e18f-8d7c949e6fd4"
      },
      "source": [
        "test_label.shape"
      ],
      "execution_count": 24,
      "outputs": [
        {
          "output_type": "execute_result",
          "data": {
            "text/plain": [
              "(140,)"
            ]
          },
          "metadata": {
            "tags": []
          },
          "execution_count": 24
        }
      ]
    },
    {
      "cell_type": "code",
      "metadata": {
        "id": "Fd4sTlVEz-8F"
      },
      "source": [
        "train_data = train_data.to_numpy()"
      ],
      "execution_count": 25,
      "outputs": []
    },
    {
      "cell_type": "code",
      "metadata": {
        "id": "JAhorEur0Ewc"
      },
      "source": [
        "\n",
        "train_label = train_label.to_numpy().astype('float32')"
      ],
      "execution_count": 26,
      "outputs": []
    },
    {
      "cell_type": "code",
      "metadata": {
        "id": "hqEoQdNl0FrC"
      },
      "source": [
        "\n",
        "test_data = test_data.to_numpy()"
      ],
      "execution_count": 27,
      "outputs": []
    },
    {
      "cell_type": "code",
      "metadata": {
        "id": "h-3xcXVS0Qex"
      },
      "source": [
        "\n",
        "test_label = test_label.to_numpy().astype('float32')"
      ],
      "execution_count": 28,
      "outputs": []
    },
    {
      "cell_type": "code",
      "metadata": {
        "colab": {
          "base_uri": "https://localhost:8080/"
        },
        "id": "GBXoIGTf1S9S",
        "outputId": "57552630-70de-4d7f-b165-eb2ecefe5dd6"
      },
      "source": [
        "print(type(train_data))\n",
        "print(type(train_label))\n",
        "print(type(test_data))\n",
        "print(type(test_label))"
      ],
      "execution_count": 29,
      "outputs": [
        {
          "output_type": "stream",
          "text": [
            "<class 'numpy.ndarray'>\n",
            "<class 'numpy.ndarray'>\n",
            "<class 'numpy.ndarray'>\n",
            "<class 'numpy.ndarray'>\n"
          ],
          "name": "stdout"
        }
      ]
    },
    {
      "cell_type": "code",
      "metadata": {
        "colab": {
          "base_uri": "https://localhost:8080/"
        },
        "id": "Gr1bDnFs1bkj",
        "outputId": "8a296005-5bc3-411e-8e6c-53fedc4405ec"
      },
      "source": [
        "print(train_data.dtype)\n",
        "print(train_label.dtype)\n",
        "print(test_label.dtype)\n",
        "print(test_data.dtype)"
      ],
      "execution_count": 30,
      "outputs": [
        {
          "output_type": "stream",
          "text": [
            "float64\n",
            "float32\n",
            "float32\n",
            "float64\n"
          ],
          "name": "stdout"
        }
      ]
    },
    {
      "cell_type": "code",
      "metadata": {
        "id": "Ea5R7nC31gJ5"
      },
      "source": [
        "from tensorflow.keras.models import Sequential\n",
        "from tensorflow.keras.layers import Dense, Dropout\n",
        "\n",
        "# Define model\n",
        "model = Sequential()\n",
        "model.add(Dense(64, activation='relu', input_shape=(train_data.shape[1],)))\n",
        "model.add(Dropout(0.2))\n",
        "model.add(Dense(64, activation='relu'))\n",
        "model.add(Dropout(0.2))\n",
        "model.add(Dense(1,  activation='sigmoid'))"
      ],
      "execution_count": 32,
      "outputs": []
    },
    {
      "cell_type": "code",
      "metadata": {
        "colab": {
          "base_uri": "https://localhost:8080/"
        },
        "id": "CUfZP6-11si8",
        "outputId": "09fdafcd-ecb0-4143-e005-d180b3172ad9"
      },
      "source": [
        "model.summary()"
      ],
      "execution_count": 33,
      "outputs": [
        {
          "output_type": "stream",
          "text": [
            "Model: \"sequential\"\n",
            "_________________________________________________________________\n",
            "Layer (type)                 Output Shape              Param #   \n",
            "=================================================================\n",
            "dense (Dense)                (None, 64)                2176      \n",
            "_________________________________________________________________\n",
            "dropout (Dropout)            (None, 64)                0         \n",
            "_________________________________________________________________\n",
            "dense_1 (Dense)              (None, 64)                4160      \n",
            "_________________________________________________________________\n",
            "dropout_1 (Dropout)          (None, 64)                0         \n",
            "_________________________________________________________________\n",
            "dense_2 (Dense)              (None, 1)                 65        \n",
            "=================================================================\n",
            "Total params: 6,401\n",
            "Trainable params: 6,401\n",
            "Non-trainable params: 0\n",
            "_________________________________________________________________\n"
          ],
          "name": "stdout"
        }
      ]
    },
    {
      "cell_type": "code",
      "metadata": {
        "id": "W4VjM9cj1wFu"
      },
      "source": [
        "from tensorflow.keras import optimizers\n",
        "\n",
        "model.compile(optimizer = 'RMSprop', loss='binary_crossentropy', metrics=['accuracy'])"
      ],
      "execution_count": 35,
      "outputs": []
    },
    {
      "cell_type": "code",
      "metadata": {
        "colab": {
          "base_uri": "https://localhost:8080/"
        },
        "id": "RVLtUWyf11TV",
        "outputId": "feb4c9a9-9ded-459f-d6aa-1624aa752e0f"
      },
      "source": [
        "history = model.fit(train_data, train_label, validation_split=0.2, epochs=75, batch_size = 16)"
      ],
      "execution_count": 36,
      "outputs": [
        {
          "output_type": "stream",
          "text": [
            "Epoch 1/75\n",
            "11/11 [==============================] - 1s 28ms/step - loss: 0.4258 - accuracy: 0.8453 - val_loss: 0.1293 - val_accuracy: 1.0000\n",
            "Epoch 2/75\n",
            "11/11 [==============================] - 0s 7ms/step - loss: 0.1303 - accuracy: 1.0000 - val_loss: 0.0508 - val_accuracy: 1.0000\n",
            "Epoch 3/75\n",
            "11/11 [==============================] - 0s 6ms/step - loss: 0.0609 - accuracy: 1.0000 - val_loss: 0.0226 - val_accuracy: 1.0000\n",
            "Epoch 4/75\n",
            "11/11 [==============================] - 0s 7ms/step - loss: 0.0310 - accuracy: 1.0000 - val_loss: 0.0110 - val_accuracy: 1.0000\n",
            "Epoch 5/75\n",
            "11/11 [==============================] - 0s 6ms/step - loss: 0.0156 - accuracy: 1.0000 - val_loss: 0.0057 - val_accuracy: 1.0000\n",
            "Epoch 6/75\n",
            "11/11 [==============================] - 0s 6ms/step - loss: 0.0087 - accuracy: 1.0000 - val_loss: 0.0029 - val_accuracy: 1.0000\n",
            "Epoch 7/75\n",
            "11/11 [==============================] - 0s 7ms/step - loss: 0.0053 - accuracy: 1.0000 - val_loss: 0.0018 - val_accuracy: 1.0000\n",
            "Epoch 8/75\n",
            "11/11 [==============================] - 0s 8ms/step - loss: 0.0032 - accuracy: 1.0000 - val_loss: 0.0010 - val_accuracy: 1.0000\n",
            "Epoch 9/75\n",
            "11/11 [==============================] - 0s 8ms/step - loss: 0.0018 - accuracy: 1.0000 - val_loss: 5.5983e-04 - val_accuracy: 1.0000\n",
            "Epoch 10/75\n",
            "11/11 [==============================] - 0s 7ms/step - loss: 6.8811e-04 - accuracy: 1.0000 - val_loss: 3.8590e-04 - val_accuracy: 1.0000\n",
            "Epoch 11/75\n",
            "11/11 [==============================] - 0s 7ms/step - loss: 7.7562e-04 - accuracy: 1.0000 - val_loss: 2.6584e-04 - val_accuracy: 1.0000\n",
            "Epoch 12/75\n",
            "11/11 [==============================] - 0s 6ms/step - loss: 4.1260e-04 - accuracy: 1.0000 - val_loss: 1.5538e-04 - val_accuracy: 1.0000\n",
            "Epoch 13/75\n",
            "11/11 [==============================] - 0s 6ms/step - loss: 1.4592e-04 - accuracy: 1.0000 - val_loss: 1.0707e-04 - val_accuracy: 1.0000\n",
            "Epoch 14/75\n",
            "11/11 [==============================] - 0s 6ms/step - loss: 1.0332e-04 - accuracy: 1.0000 - val_loss: 7.0850e-05 - val_accuracy: 1.0000\n",
            "Epoch 15/75\n",
            "11/11 [==============================] - 0s 7ms/step - loss: 1.2600e-04 - accuracy: 1.0000 - val_loss: 4.4291e-05 - val_accuracy: 1.0000\n",
            "Epoch 16/75\n",
            "11/11 [==============================] - 0s 7ms/step - loss: 5.6032e-05 - accuracy: 1.0000 - val_loss: 2.7538e-05 - val_accuracy: 1.0000\n",
            "Epoch 17/75\n",
            "11/11 [==============================] - 0s 6ms/step - loss: 3.0334e-05 - accuracy: 1.0000 - val_loss: 1.7051e-05 - val_accuracy: 1.0000\n",
            "Epoch 18/75\n",
            "11/11 [==============================] - 0s 7ms/step - loss: 1.4719e-05 - accuracy: 1.0000 - val_loss: 1.3420e-05 - val_accuracy: 1.0000\n",
            "Epoch 19/75\n",
            "11/11 [==============================] - 0s 6ms/step - loss: 1.5574e-05 - accuracy: 1.0000 - val_loss: 1.0091e-05 - val_accuracy: 1.0000\n",
            "Epoch 20/75\n",
            "11/11 [==============================] - 0s 8ms/step - loss: 7.7313e-06 - accuracy: 1.0000 - val_loss: 5.7628e-06 - val_accuracy: 1.0000\n",
            "Epoch 21/75\n",
            "11/11 [==============================] - 0s 7ms/step - loss: 6.8921e-06 - accuracy: 1.0000 - val_loss: 3.4421e-06 - val_accuracy: 1.0000\n",
            "Epoch 22/75\n",
            "11/11 [==============================] - 0s 7ms/step - loss: 2.5317e-06 - accuracy: 1.0000 - val_loss: 2.6516e-06 - val_accuracy: 1.0000\n",
            "Epoch 23/75\n",
            "11/11 [==============================] - 0s 6ms/step - loss: 4.3886e-07 - accuracy: 1.0000 - val_loss: 2.2010e-06 - val_accuracy: 1.0000\n",
            "Epoch 24/75\n",
            "11/11 [==============================] - 0s 7ms/step - loss: 6.9220e-07 - accuracy: 1.0000 - val_loss: 1.7089e-06 - val_accuracy: 1.0000\n",
            "Epoch 25/75\n",
            "11/11 [==============================] - 0s 6ms/step - loss: 4.7284e-07 - accuracy: 1.0000 - val_loss: 1.2203e-06 - val_accuracy: 1.0000\n",
            "Epoch 26/75\n",
            "11/11 [==============================] - 0s 7ms/step - loss: 6.6854e-07 - accuracy: 1.0000 - val_loss: 7.0025e-07 - val_accuracy: 1.0000\n",
            "Epoch 27/75\n",
            "11/11 [==============================] - 0s 7ms/step - loss: 1.9130e-07 - accuracy: 1.0000 - val_loss: 5.4877e-07 - val_accuracy: 1.0000\n",
            "Epoch 28/75\n",
            "11/11 [==============================] - 0s 7ms/step - loss: 2.6036e-07 - accuracy: 1.0000 - val_loss: 3.9444e-07 - val_accuracy: 1.0000\n",
            "Epoch 29/75\n",
            "11/11 [==============================] - 0s 6ms/step - loss: 1.3094e-07 - accuracy: 1.0000 - val_loss: 3.0100e-07 - val_accuracy: 1.0000\n",
            "Epoch 30/75\n",
            "11/11 [==============================] - 0s 6ms/step - loss: 1.6415e-07 - accuracy: 1.0000 - val_loss: 2.3898e-07 - val_accuracy: 1.0000\n",
            "Epoch 31/75\n",
            "11/11 [==============================] - 0s 7ms/step - loss: 2.1768e-07 - accuracy: 1.0000 - val_loss: 1.4397e-07 - val_accuracy: 1.0000\n",
            "Epoch 32/75\n",
            "11/11 [==============================] - 0s 6ms/step - loss: 1.2771e-08 - accuracy: 1.0000 - val_loss: 1.3501e-07 - val_accuracy: 1.0000\n",
            "Epoch 33/75\n",
            "11/11 [==============================] - 0s 7ms/step - loss: 1.6135e-08 - accuracy: 1.0000 - val_loss: 1.2909e-07 - val_accuracy: 1.0000\n",
            "Epoch 34/75\n",
            "11/11 [==============================] - 0s 7ms/step - loss: 6.9587e-08 - accuracy: 1.0000 - val_loss: 9.6822e-08 - val_accuracy: 1.0000\n",
            "Epoch 35/75\n",
            "11/11 [==============================] - 0s 7ms/step - loss: 1.0615e-07 - accuracy: 1.0000 - val_loss: 8.1914e-08 - val_accuracy: 1.0000\n",
            "Epoch 36/75\n",
            "11/11 [==============================] - 0s 7ms/step - loss: 1.5084e-08 - accuracy: 1.0000 - val_loss: 7.3174e-08 - val_accuracy: 1.0000\n",
            "Epoch 37/75\n",
            "11/11 [==============================] - 0s 7ms/step - loss: 1.3491e-08 - accuracy: 1.0000 - val_loss: 6.8182e-08 - val_accuracy: 1.0000\n",
            "Epoch 38/75\n",
            "11/11 [==============================] - 0s 6ms/step - loss: 4.9759e-09 - accuracy: 1.0000 - val_loss: 6.4767e-08 - val_accuracy: 1.0000\n",
            "Epoch 39/75\n",
            "11/11 [==============================] - 0s 7ms/step - loss: 1.1961e-08 - accuracy: 1.0000 - val_loss: 5.9680e-08 - val_accuracy: 1.0000\n",
            "Epoch 40/75\n",
            "11/11 [==============================] - 0s 6ms/step - loss: 2.3316e-07 - accuracy: 1.0000 - val_loss: 4.6314e-08 - val_accuracy: 1.0000\n",
            "Epoch 41/75\n",
            "11/11 [==============================] - 0s 7ms/step - loss: 1.0575e-08 - accuracy: 1.0000 - val_loss: 4.0987e-08 - val_accuracy: 1.0000\n",
            "Epoch 42/75\n",
            "11/11 [==============================] - 0s 10ms/step - loss: 9.3271e-09 - accuracy: 1.0000 - val_loss: 3.7292e-08 - val_accuracy: 1.0000\n",
            "Epoch 43/75\n",
            "11/11 [==============================] - 0s 7ms/step - loss: 1.0102e-08 - accuracy: 1.0000 - val_loss: 3.3367e-08 - val_accuracy: 1.0000\n",
            "Epoch 44/75\n",
            "11/11 [==============================] - 0s 6ms/step - loss: 5.4862e-09 - accuracy: 1.0000 - val_loss: 3.2268e-08 - val_accuracy: 1.0000\n",
            "Epoch 45/75\n",
            "11/11 [==============================] - 0s 7ms/step - loss: 2.2703e-09 - accuracy: 1.0000 - val_loss: 3.1509e-08 - val_accuracy: 1.0000\n",
            "Epoch 46/75\n",
            "11/11 [==============================] - 0s 7ms/step - loss: 1.8358e-09 - accuracy: 1.0000 - val_loss: 3.0670e-08 - val_accuracy: 1.0000\n",
            "Epoch 47/75\n",
            "11/11 [==============================] - 0s 6ms/step - loss: 2.8899e-08 - accuracy: 1.0000 - val_loss: 2.7196e-08 - val_accuracy: 1.0000\n",
            "Epoch 48/75\n",
            "11/11 [==============================] - 0s 7ms/step - loss: 4.8070e-09 - accuracy: 1.0000 - val_loss: 2.5456e-08 - val_accuracy: 1.0000\n",
            "Epoch 49/75\n",
            "11/11 [==============================] - 0s 7ms/step - loss: 1.7517e-08 - accuracy: 1.0000 - val_loss: 2.2518e-08 - val_accuracy: 1.0000\n",
            "Epoch 50/75\n",
            "11/11 [==============================] - 0s 7ms/step - loss: 2.0952e-08 - accuracy: 1.0000 - val_loss: 2.0606e-08 - val_accuracy: 1.0000\n",
            "Epoch 51/75\n",
            "11/11 [==============================] - 0s 6ms/step - loss: 4.3724e-09 - accuracy: 1.0000 - val_loss: 1.8755e-08 - val_accuracy: 1.0000\n",
            "Epoch 52/75\n",
            "11/11 [==============================] - 0s 6ms/step - loss: 1.0625e-08 - accuracy: 1.0000 - val_loss: 1.7760e-08 - val_accuracy: 1.0000\n",
            "Epoch 53/75\n",
            "11/11 [==============================] - 0s 7ms/step - loss: 2.0032e-09 - accuracy: 1.0000 - val_loss: 1.7381e-08 - val_accuracy: 1.0000\n",
            "Epoch 54/75\n",
            "11/11 [==============================] - 0s 8ms/step - loss: 7.0327e-09 - accuracy: 1.0000 - val_loss: 1.6384e-08 - val_accuracy: 1.0000\n",
            "Epoch 55/75\n",
            "11/11 [==============================] - 0s 6ms/step - loss: 3.2565e-09 - accuracy: 1.0000 - val_loss: 1.6077e-08 - val_accuracy: 1.0000\n",
            "Epoch 56/75\n",
            "11/11 [==============================] - 0s 7ms/step - loss: 4.9414e-09 - accuracy: 1.0000 - val_loss: 1.4967e-08 - val_accuracy: 1.0000\n",
            "Epoch 57/75\n",
            "11/11 [==============================] - 0s 8ms/step - loss: 3.2101e-09 - accuracy: 1.0000 - val_loss: 1.4405e-08 - val_accuracy: 1.0000\n",
            "Epoch 58/75\n",
            "11/11 [==============================] - 0s 7ms/step - loss: 2.5389e-09 - accuracy: 1.0000 - val_loss: 1.4001e-08 - val_accuracy: 1.0000\n",
            "Epoch 59/75\n",
            "11/11 [==============================] - 0s 6ms/step - loss: 1.9072e-09 - accuracy: 1.0000 - val_loss: 1.3130e-08 - val_accuracy: 1.0000\n",
            "Epoch 60/75\n",
            "11/11 [==============================] - 0s 6ms/step - loss: 2.3415e-09 - accuracy: 1.0000 - val_loss: 1.2874e-08 - val_accuracy: 1.0000\n",
            "Epoch 61/75\n",
            "11/11 [==============================] - 0s 6ms/step - loss: 2.4924e-09 - accuracy: 1.0000 - val_loss: 1.2086e-08 - val_accuracy: 1.0000\n",
            "Epoch 62/75\n",
            "11/11 [==============================] - 0s 6ms/step - loss: 1.0856e-09 - accuracy: 1.0000 - val_loss: 1.1885e-08 - val_accuracy: 1.0000\n",
            "Epoch 63/75\n",
            "11/11 [==============================] - 0s 6ms/step - loss: 9.7879e-09 - accuracy: 1.0000 - val_loss: 1.1415e-08 - val_accuracy: 1.0000\n",
            "Epoch 64/75\n",
            "11/11 [==============================] - 0s 6ms/step - loss: 1.1818e-09 - accuracy: 1.0000 - val_loss: 1.1167e-08 - val_accuracy: 1.0000\n",
            "Epoch 65/75\n",
            "11/11 [==============================] - 0s 7ms/step - loss: 6.2049e-10 - accuracy: 1.0000 - val_loss: 1.1073e-08 - val_accuracy: 1.0000\n",
            "Epoch 66/75\n",
            "11/11 [==============================] - 0s 7ms/step - loss: 7.3030e-10 - accuracy: 1.0000 - val_loss: 1.0914e-08 - val_accuracy: 1.0000\n",
            "Epoch 67/75\n",
            "11/11 [==============================] - 0s 8ms/step - loss: 5.8485e-10 - accuracy: 1.0000 - val_loss: 1.0822e-08 - val_accuracy: 1.0000\n",
            "Epoch 68/75\n",
            "11/11 [==============================] - 0s 7ms/step - loss: 8.2300e-10 - accuracy: 1.0000 - val_loss: 1.0560e-08 - val_accuracy: 1.0000\n",
            "Epoch 69/75\n",
            "11/11 [==============================] - 0s 7ms/step - loss: 3.2430e-09 - accuracy: 1.0000 - val_loss: 9.9375e-09 - val_accuracy: 1.0000\n",
            "Epoch 70/75\n",
            "11/11 [==============================] - 0s 7ms/step - loss: 3.7558e-09 - accuracy: 1.0000 - val_loss: 9.3165e-09 - val_accuracy: 1.0000\n",
            "Epoch 71/75\n",
            "11/11 [==============================] - 0s 7ms/step - loss: 6.2858e-10 - accuracy: 1.0000 - val_loss: 9.2475e-09 - val_accuracy: 1.0000\n",
            "Epoch 72/75\n",
            "11/11 [==============================] - 0s 6ms/step - loss: 2.0403e-09 - accuracy: 1.0000 - val_loss: 8.8409e-09 - val_accuracy: 1.0000\n",
            "Epoch 73/75\n",
            "11/11 [==============================] - 0s 6ms/step - loss: 2.1702e-09 - accuracy: 1.0000 - val_loss: 8.5310e-09 - val_accuracy: 1.0000\n",
            "Epoch 74/75\n",
            "11/11 [==============================] - 0s 7ms/step - loss: 4.4050e-09 - accuracy: 1.0000 - val_loss: 8.1709e-09 - val_accuracy: 1.0000\n",
            "Epoch 75/75\n",
            "11/11 [==============================] - 0s 8ms/step - loss: 5.8847e-10 - accuracy: 1.0000 - val_loss: 8.1279e-09 - val_accuracy: 1.0000\n"
          ],
          "name": "stdout"
        }
      ]
    },
    {
      "cell_type": "code",
      "metadata": {
        "colab": {
          "base_uri": "https://localhost:8080/"
        },
        "id": "EyCdSSfG16fB",
        "outputId": "a5bd4989-fee7-447c-ac50-48778d7c1ec8"
      },
      "source": [
        "history.history.keys()"
      ],
      "execution_count": 37,
      "outputs": [
        {
          "output_type": "execute_result",
          "data": {
            "text/plain": [
              "dict_keys(['loss', 'accuracy', 'val_loss', 'val_accuracy'])"
            ]
          },
          "metadata": {
            "tags": []
          },
          "execution_count": 37
        }
      ]
    },
    {
      "cell_type": "code",
      "metadata": {
        "colab": {
          "base_uri": "https://localhost:8080/",
          "height": 295
        },
        "id": "CaNdzH8k1_Gf",
        "outputId": "79d601ca-bec4-4f56-a627-c6068ee94499"
      },
      "source": [
        "history_dict = history.history\n",
        "loss_values = history_dict['loss']\n",
        "val_loss_values = history_dict['val_loss']\n",
        "\n",
        "epochs = range(75)\n",
        "plt.plot(epochs, loss_values, 'bo', label='Training loss')\n",
        "plt.plot(epochs, val_loss_values, 'b', label='Validation loss')\n",
        "plt.title('Training and validation loss')\n",
        "plt.xlabel('Epochs')\n",
        "plt.ylabel('Loss')\n",
        "plt.legend()\n",
        "plt.show()"
      ],
      "execution_count": 38,
      "outputs": [
        {
          "output_type": "display_data",
          "data": {
            "image/png": "[encoded data removed]",
            "text/plain": [
              "<Figure size 432x288 with 1 Axes>"
            ]
          },
          "metadata": {
            "tags": [],
            "needs_background": "light"
          }
        }
      ]
    },
    {
      "cell_type": "code",
      "metadata": {
        "colab": {
          "base_uri": "https://localhost:8080/",
          "height": 295
        },
        "id": "7xeZbheQ2EBt",
        "outputId": "d575de65-bc2c-4ed6-a551-29659c772a8c"
      },
      "source": [
        "\n",
        "acc_values = history_dict['accuracy']\n",
        "val_acc_values = history_dict['val_accuracy']\n",
        "plt.plot(epochs, acc_values, 'bo', label='Training acc')\n",
        "plt.plot(epochs, val_acc_values, 'b', label='Validation acc')\n",
        "plt.title('Training and validation accuracy')\n",
        "plt.xlabel('Epochs')\n",
        "plt.ylabel('Loss')\n",
        "plt.legend()\n",
        "plt.show()"
      ],
      "execution_count": 39,
      "outputs": [
        {
          "output_type": "display_data",
          "data": {
            "image/png": "[encoded data removed]",
            "text/plain": [
              "<Figure size 432x288 with 1 Axes>"
            ]
          },
          "metadata": {
            "tags": [],
            "needs_background": "light"
          }
        }
      ]
    },
    {
      "cell_type": "code",
      "metadata": {
        "colab": {
          "base_uri": "https://localhost:8080/"
        },
        "id": "dMRInxIw2IcD",
        "outputId": "7ca2d79c-3c28-46d8-cca1-5d7ed72d1448"
      },
      "source": [
        "\n",
        "score = model.evaluate(test_data, test_label)"
      ],
      "execution_count": 40,
      "outputs": [
        {
          "output_type": "stream",
          "text": [
            "5/5 [==============================] - 0s 3ms/step - loss: 6.1583e-09 - accuracy: 1.0000\n"
          ],
          "name": "stdout"
        }
      ]
    },
    {
      "cell_type": "code",
      "metadata": {
        "colab": {
          "base_uri": "https://localhost:8080/"
        },
        "id": "URa-pLvb2PJs",
        "outputId": "0b199514-75c4-4a4f-840e-6a81fdef9290"
      },
      "source": [
        "score"
      ],
      "execution_count": 41,
      "outputs": [
        {
          "output_type": "execute_result",
          "data": {
            "text/plain": [
              "[6.158340060125056e-09, 1.0]"
            ]
          },
          "metadata": {
            "tags": []
          },
          "execution_count": 41
        }
      ]
    },
    {
      "cell_type": "code",
      "metadata": {
        "id": "8cnP32op2Qwp"
      },
      "source": [
        "predictions=model.predict(test_data)"
      ],
      "execution_count": 42,
      "outputs": []
    },
    {
      "cell_type": "code",
      "metadata": {
        "id": "G9DDs4ou2Wh6"
      },
      "source": [
        "y_pred = (predictions > 0.5)"
      ],
      "execution_count": 43,
      "outputs": []
    },
    {
      "cell_type": "code",
      "metadata": {
        "colab": {
          "base_uri": "https://localhost:8080/"
        },
        "id": "QJ1XauLC2XuW",
        "outputId": "81a4d7e7-95de-4ed0-fcfe-c2a7ce43ea24"
      },
      "source": [
        "tf.math.confusion_matrix(\n",
        "    test_label, y_pred, num_classes=2, weights=None, dtype=tf.dtypes.int32,\n",
        "    name=None\n",
        ")"
      ],
      "execution_count": 44,
      "outputs": [
        {
          "output_type": "execute_result",
          "data": {
            "text/plain": [
              "<tf.Tensor: shape=(2, 2), dtype=int32, numpy=\n",
              "array([[140,   0],\n",
              "       [  0,   0]], dtype=int32)>"
            ]
          },
          "metadata": {
            "tags": []
          },
          "execution_count": 44
        }
      ]
    },
    {
      "cell_type": "code",
      "metadata": {
        "id": "0uj9DBjP2ec8",
        "outputId": "9c165733-28a8-4fa6-db1d-d9d9f3cac33d",
        "colab": {
          "base_uri": "https://localhost:8080/"
        }
      },
      "source": [
        "np.count_nonzero(y_pred)"
      ],
      "execution_count": 45,
      "outputs": [
        {
          "output_type": "execute_result",
          "data": {
            "text/plain": [
              "0"
            ]
          },
          "metadata": {
            "tags": []
          },
          "execution_count": 45
        }
      ]
    },
    {
      "cell_type": "markdown",
      "metadata": {
        "id": "_rufI8hPxpUE"
      },
      "source": [
        "# New Section"
      ]
    }
  ]
}